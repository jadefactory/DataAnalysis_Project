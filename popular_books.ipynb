{
  "cells": [
    {
      "cell_type": "markdown",
      "id": "4613be5f",
      "metadata": {
        "id": "4613be5f"
      },
      "source": [
        "# 주제 : 프로그래밍 언어별 출판되는 책을 통해 인기있는 언어 찾기"
      ]
    },
    {
      "cell_type": "markdown",
      "id": "0e8aac06",
      "metadata": {
        "id": "0e8aac06"
      },
      "source": [
        "---"
      ]
    },
    {
      "cell_type": "markdown",
      "id": "e09bd13a",
      "metadata": {
        "id": "e09bd13a"
      },
      "source": [
        "## 1. 데이터 준비"
      ]
    },
    {
      "cell_type": "markdown",
      "id": "bc5a7aef",
      "metadata": {
        "id": "bc5a7aef"
      },
      "source": [
        "### 1-1. 필요한 모듈 불러오기"
      ]
    },
    {
      "cell_type": "code",
      "execution_count": null,
      "id": "fb563189",
      "metadata": {
        "id": "fb563189"
      },
      "outputs": [],
      "source": [
        "import os\n",
        "import sys\n",
        "import urllib.request\n",
        "import json \n",
        "import pandas as pd"
      ]
    },
    {
      "cell_type": "markdown",
      "id": "cbaab08b",
      "metadata": {
        "id": "cbaab08b"
      },
      "source": [
        "### 1-2. Naver Books API 호출을 통한 정보 수집 "
      ]
    },
    {
      "cell_type": "code",
      "execution_count": null,
      "id": "3f0f8dcb",
      "metadata": {
        "id": "3f0f8dcb"
      },
      "outputs": [],
      "source": [
        "client_id = \"uAbavg012XaXAEn8gVKz\"\n",
        "client_secret = \"lMjPL4LlAk\""
      ]
    },
    {
      "cell_type": "code",
      "execution_count": null,
      "id": "5637e979",
      "metadata": {
        "id": "5637e979"
      },
      "outputs": [],
      "source": [
        "# 검색 URL 생성 함수\n",
        "def gen_search_url(api_node, search_text, start_num, disp_num):\n",
        "    base = \"https://openapi.naver.com/v1/search\"\n",
        "    node = \"/\" + api_node + \".json\"\n",
        "    param_query = \"?query=\" + urllib.parse.quote(search_text)\n",
        "    param_start = \"&start=\" + str(start_num)\n",
        "    param_disp = \"&display=\" + str(disp_num)\n",
        "    \n",
        "    return base + node + param_query + param_start + param_disp"
      ]
    },
    {
      "cell_type": "code",
      "execution_count": null,
      "id": "4b4be5c0",
      "metadata": {
        "id": "4b4be5c0"
      },
      "outputs": [],
      "source": [
        "# 검색 결과 수집 함수\n",
        "def get_result_onpage(url):\n",
        "    request = urllib.request.Request(url)\n",
        "    request.add_header(\"X-Naver-Client-Id\", client_id)\n",
        "    request.add_header(\"X-Naver-Client-Secret\", client_secret)\n",
        "    response = urllib.request.urlopen(request)\n",
        "\n",
        "    return json.loads(response.read().decode(\"utf-8\"))"
      ]
    },
    {
      "cell_type": "markdown",
      "id": "a7675974",
      "metadata": {
        "id": "a7675974"
      },
      "source": [
        "### 1-3. 데이터 정제 및 데이터프레임 구성"
      ]
    },
    {
      "cell_type": "code",
      "execution_count": null,
      "id": "c5dc7952",
      "metadata": {
        "id": "c5dc7952"
      },
      "outputs": [],
      "source": [
        "# b태그 제거 함수\n",
        "def delete_tag(input_str):\n",
        "    input_str = input_str.replace(\"<b>\", \"\")\n",
        "    input_str = input_str.replace(\"</b>\", \"\")\n",
        "    \n",
        "    return input_str"
      ]
    },
    {
      "cell_type": "code",
      "execution_count": null,
      "id": "9fd15b37",
      "metadata": {
        "id": "9fd15b37"
      },
      "outputs": [],
      "source": [
        "# 판다스 데이터프레임 변환 함수\n",
        "def get_fields(json_data):\n",
        "    title = [delete_tag(each[\"title\"]) for each in json_data[\"items\"]]\n",
        "    author = [delete_tag(each[\"author\"]) for each in json_data[\"items\"]]\n",
        "    publisher = [delete_tag(each[\"publisher\"]) for each in json_data[\"items\"]]\n",
        "    pubdate = [each[\"pubdate\"] for each in json_data[\"items\"]]\n",
        "    isbn = [each[\"isbn\"] for each in json_data[\"items\"]]\n",
        "    \n",
        "    result_pd = pd.DataFrame({\n",
        "        \"제목\":title,\n",
        "        \"저자\":author,\n",
        "        \"출판사\":publisher,\n",
        "        \"출판일\": pubdate,\n",
        "        \"ISBN\":isbn\n",
        "    }, columns=[\"제목\", \"저자\", \"출판사\", \"출판일\", \"ISBN\"])\n",
        "    \n",
        "    return result_pd"
      ]
    },
    {
      "cell_type": "code",
      "execution_count": null,
      "id": "83e25bbd",
      "metadata": {
        "id": "83e25bbd"
      },
      "outputs": [],
      "source": [
        "df = pd.DataFrame({\n",
        "    \"제목\": [],\n",
        "    \"저자\": [],\n",
        "    \"출판사\": [],\n",
        "    \"출판일\": [],\n",
        "    \"ISBN\": [],\n",
        "    \"언어\":[]\n",
        "})"
      ]
    },
    {
      "cell_type": "code",
      "execution_count": null,
      "id": "53874958",
      "metadata": {
        "id": "53874958"
      },
      "outputs": [],
      "source": [
        "# 데이터셋 구성 함수\n",
        "def make_dataset(language):\n",
        "    url = gen_search_url(\"book\", language, 1, 20)\n",
        "    one_result = get_result_onpage(url)\n",
        "    result = get_fields(one_result)\n",
        "    result[\"언어\"] = language\n",
        "    \n",
        "    return result"
      ]
    },
    {
      "cell_type": "code",
      "execution_count": null,
      "id": "30a26d39",
      "metadata": {
        "id": "30a26d39"
      },
      "outputs": [],
      "source": [
        "arr = ['파이썬','Python','C언어','Java','C++','C#','Visual Basic','자바스크립트','SQL','PHP','R프로그래밍']\n",
        "\n",
        "for name in arr:\n",
        "    tmp = make_dataset(name)\n",
        "    df = pd.concat([df, tmp])"
      ]
    },
    {
      "cell_type": "code",
      "execution_count": null,
      "id": "c92707f6",
      "metadata": {
        "id": "c92707f6",
        "outputId": "d8c3ccbd-246f-4f36-879e-cbb6cff7eb15"
      },
      "outputs": [
        {
          "data": {
            "text/html": [
              "<div>\n",
              "<style scoped>\n",
              "    .dataframe tbody tr th:only-of-type {\n",
              "        vertical-align: middle;\n",
              "    }\n",
              "\n",
              "    .dataframe tbody tr th {\n",
              "        vertical-align: top;\n",
              "    }\n",
              "\n",
              "    .dataframe thead th {\n",
              "        text-align: right;\n",
              "    }\n",
              "</style>\n",
              "<table border=\"1\" class=\"dataframe\">\n",
              "  <thead>\n",
              "    <tr style=\"text-align: right;\">\n",
              "      <th></th>\n",
              "      <th>제목</th>\n",
              "      <th>저자</th>\n",
              "      <th>출판사</th>\n",
              "      <th>출판일</th>\n",
              "      <th>ISBN</th>\n",
              "      <th>언어</th>\n",
              "    </tr>\n",
              "  </thead>\n",
              "  <tbody>\n",
              "    <tr>\n",
              "      <th>0</th>\n",
              "      <td>이것이 취업을 위한 코딩 테스트다 with 파이썬 (취업과 이직을 결정하는 알고리즘...</td>\n",
              "      <td>나동빈</td>\n",
              "      <td>한빛미디어</td>\n",
              "      <td>20200805</td>\n",
              "      <td>1162243074 9791162243077</td>\n",
              "      <td>파이썬</td>\n",
              "    </tr>\n",
              "    <tr>\n",
              "      <th>1</th>\n",
              "      <td>Do it! 점프 투 파이썬</td>\n",
              "      <td>박응용</td>\n",
              "      <td>이지스퍼블리싱</td>\n",
              "      <td>20190620</td>\n",
              "      <td>1163030910 9791163030911</td>\n",
              "      <td>파이썬</td>\n",
              "    </tr>\n",
              "    <tr>\n",
              "      <th>2</th>\n",
              "      <td>혼자 공부하는 파이썬 (파이썬 최신 버전 반영)</td>\n",
              "      <td>윤인성</td>\n",
              "      <td>한빛미디어</td>\n",
              "      <td>20190610</td>\n",
              "      <td>1162241888 9791162241882</td>\n",
              "      <td>파이썬</td>\n",
              "    </tr>\n",
              "    <tr>\n",
              "      <th>3</th>\n",
              "      <td>파이썬 알고리즘 인터뷰 (95가지 알고리즘 문제 풀이로 완성하는 코딩 테스트)</td>\n",
              "      <td>박상길</td>\n",
              "      <td>책만</td>\n",
              "      <td>20200715</td>\n",
              "      <td>1189909170 9791189909178</td>\n",
              "      <td>파이썬</td>\n",
              "    </tr>\n",
              "    <tr>\n",
              "      <th>4</th>\n",
              "      <td>파이썬 증권 데이터 분석 (파이썬 입문, 웹 스크레이핑, 트레이딩 전략, 자동 매매)</td>\n",
              "      <td>김황후</td>\n",
              "      <td>한빛미디어</td>\n",
              "      <td>20200701</td>\n",
              "      <td>1162243201 9791162243206</td>\n",
              "      <td>파이썬</td>\n",
              "    </tr>\n",
              "  </tbody>\n",
              "</table>\n",
              "</div>"
            ],
            "text/plain": [
              "                                                  제목   저자      출판사       출판일  \\\n",
              "0  이것이 취업을 위한 코딩 테스트다 with 파이썬 (취업과 이직을 결정하는 알고리즘...  나동빈    한빛미디어  20200805   \n",
              "1                                    Do it! 점프 투 파이썬  박응용  이지스퍼블리싱  20190620   \n",
              "2                         혼자 공부하는 파이썬 (파이썬 최신 버전 반영)  윤인성    한빛미디어  20190610   \n",
              "3        파이썬 알고리즘 인터뷰 (95가지 알고리즘 문제 풀이로 완성하는 코딩 테스트)  박상길       책만  20200715   \n",
              "4    파이썬 증권 데이터 분석 (파이썬 입문, 웹 스크레이핑, 트레이딩 전략, 자동 매매)  김황후    한빛미디어  20200701   \n",
              "\n",
              "                       ISBN   언어  \n",
              "0  1162243074 9791162243077  파이썬  \n",
              "1  1163030910 9791163030911  파이썬  \n",
              "2  1162241888 9791162241882  파이썬  \n",
              "3  1189909170 9791189909178  파이썬  \n",
              "4  1162243201 9791162243206  파이썬  "
            ]
          },
          "execution_count": 10,
          "metadata": {},
          "output_type": "execute_result"
        }
      ],
      "source": [
        "df.head()"
      ]
    },
    {
      "cell_type": "code",
      "execution_count": null,
      "id": "ca9f98c3",
      "metadata": {
        "id": "ca9f98c3",
        "outputId": "70a03688-cfe3-4943-80a6-1883d863de93"
      },
      "outputs": [
        {
          "data": {
            "text/html": [
              "<div>\n",
              "<style scoped>\n",
              "    .dataframe tbody tr th:only-of-type {\n",
              "        vertical-align: middle;\n",
              "    }\n",
              "\n",
              "    .dataframe tbody tr th {\n",
              "        vertical-align: top;\n",
              "    }\n",
              "\n",
              "    .dataframe thead th {\n",
              "        text-align: right;\n",
              "    }\n",
              "</style>\n",
              "<table border=\"1\" class=\"dataframe\">\n",
              "  <thead>\n",
              "    <tr style=\"text-align: right;\">\n",
              "      <th></th>\n",
              "      <th>제목</th>\n",
              "      <th>저자</th>\n",
              "      <th>출판사</th>\n",
              "      <th>출판일</th>\n",
              "      <th>ISBN</th>\n",
              "      <th>언어</th>\n",
              "    </tr>\n",
              "  </thead>\n",
              "  <tbody>\n",
              "    <tr>\n",
              "      <th>15</th>\n",
              "      <td>빅데이터 통계 분석을 위한 R 프로그래밍 레퍼런스 북</td>\n",
              "      <td>이시다 모토히로</td>\n",
              "      <td>교학사</td>\n",
              "      <td>20180120</td>\n",
              "      <td>8909202882 9788909202886</td>\n",
              "      <td>R프로그래밍</td>\n",
              "    </tr>\n",
              "    <tr>\n",
              "      <th>16</th>\n",
              "      <td>R 프로그래밍 (예제로 배우는)</td>\n",
              "      <td>유충현</td>\n",
              "      <td>자유아카데미</td>\n",
              "      <td>20101101</td>\n",
              "      <td>8973388525 9788973388523</td>\n",
              "      <td>R프로그래밍</td>\n",
              "    </tr>\n",
              "    <tr>\n",
              "      <th>17</th>\n",
              "      <td>R 프로그래밍 및 그래픽스 실습</td>\n",
              "      <td>손영숙|전성현</td>\n",
              "      <td>자유아카데미</td>\n",
              "      <td>20180831</td>\n",
              "      <td>1158082002 9791158082000</td>\n",
              "      <td>R프로그래밍</td>\n",
              "    </tr>\n",
              "    <tr>\n",
              "      <th>18</th>\n",
              "      <td>R 프로그래밍 기초 &amp; 활용 (데이터 분석과 통계 프로그래밍을 위한)</td>\n",
              "      <td>래리 페이스</td>\n",
              "      <td>길벗</td>\n",
              "      <td>20130204</td>\n",
              "      <td>8966185231 9788966185238</td>\n",
              "      <td>R프로그래밍</td>\n",
              "    </tr>\n",
              "    <tr>\n",
              "      <th>19</th>\n",
              "      <td>R을 이용한 빅데이터 분석 및 활용 Part 1. R 프로그래밍과 데이터 시각화</td>\n",
              "      <td>허진경</td>\n",
              "      <td>퍼플</td>\n",
              "      <td>20171024</td>\n",
              "      <td>0000291986 1400000291986</td>\n",
              "      <td>R프로그래밍</td>\n",
              "    </tr>\n",
              "  </tbody>\n",
              "</table>\n",
              "</div>"
            ],
            "text/plain": [
              "                                              제목        저자     출판사       출판일  \\\n",
              "15                 빅데이터 통계 분석을 위한 R 프로그래밍 레퍼런스 북  이시다 모토히로     교학사  20180120   \n",
              "16                             R 프로그래밍 (예제로 배우는)       유충현  자유아카데미  20101101   \n",
              "17                             R 프로그래밍 및 그래픽스 실습   손영숙|전성현  자유아카데미  20180831   \n",
              "18        R 프로그래밍 기초 & 활용 (데이터 분석과 통계 프로그래밍을 위한)    래리 페이스      길벗  20130204   \n",
              "19  R을 이용한 빅데이터 분석 및 활용 Part 1. R 프로그래밍과 데이터 시각화       허진경      퍼플  20171024   \n",
              "\n",
              "                        ISBN      언어  \n",
              "15  8909202882 9788909202886  R프로그래밍  \n",
              "16  8973388525 9788973388523  R프로그래밍  \n",
              "17  1158082002 9791158082000  R프로그래밍  \n",
              "18  8966185231 9788966185238  R프로그래밍  \n",
              "19  0000291986 1400000291986  R프로그래밍  "
            ]
          },
          "execution_count": 11,
          "metadata": {},
          "output_type": "execute_result"
        }
      ],
      "source": [
        "df.tail()"
      ]
    },
    {
      "cell_type": "code",
      "execution_count": null,
      "id": "23a0a5ce",
      "metadata": {
        "id": "23a0a5ce",
        "outputId": "2f40c924-4728-4c57-c606-888bb65d2978"
      },
      "outputs": [
        {
          "data": {
            "text/plain": [
              "array(['파이썬', 'Python', 'C언어', 'Java', 'C++', 'C#', 'Visual Basic',\n",
              "       '자바스크립트', 'SQL', 'PHP', 'R프로그래밍'], dtype=object)"
            ]
          },
          "execution_count": 12,
          "metadata": {},
          "output_type": "execute_result"
        }
      ],
      "source": [
        "df[\"언어\"].unique()"
      ]
    },
    {
      "cell_type": "code",
      "execution_count": null,
      "id": "a82fa669",
      "metadata": {
        "id": "a82fa669"
      },
      "outputs": [],
      "source": [
        "df.loc[df[\"언어\"] == \"파이썬\", \"언어\"] = \"Python\"\n",
        "df.loc[df[\"언어\"] == \"C언어\", \"언어\"] = \"C\"\n",
        "df.loc[df[\"언어\"] == \"자바스크립트\", \"언어\"] = \"JavaScript\"\n",
        "df.loc[df[\"언어\"] == \"R프로그래밍\", \"언어\"] = \"R\""
      ]
    },
    {
      "cell_type": "code",
      "execution_count": null,
      "id": "0a69d1cc",
      "metadata": {
        "id": "0a69d1cc",
        "outputId": "dc792989-2736-4940-f3af-c20054f21cba"
      },
      "outputs": [
        {
          "data": {
            "text/html": [
              "<div>\n",
              "<style scoped>\n",
              "    .dataframe tbody tr th:only-of-type {\n",
              "        vertical-align: middle;\n",
              "    }\n",
              "\n",
              "    .dataframe tbody tr th {\n",
              "        vertical-align: top;\n",
              "    }\n",
              "\n",
              "    .dataframe thead th {\n",
              "        text-align: right;\n",
              "    }\n",
              "</style>\n",
              "<table border=\"1\" class=\"dataframe\">\n",
              "  <thead>\n",
              "    <tr style=\"text-align: right;\">\n",
              "      <th></th>\n",
              "      <th>제목</th>\n",
              "      <th>저자</th>\n",
              "      <th>출판사</th>\n",
              "      <th>출판일</th>\n",
              "      <th>ISBN</th>\n",
              "      <th>언어</th>\n",
              "    </tr>\n",
              "  </thead>\n",
              "  <tbody>\n",
              "    <tr>\n",
              "      <th>0</th>\n",
              "      <td>이것이 취업을 위한 코딩 테스트다 with 파이썬 (취업과 이직을 결정하는 알고리즘...</td>\n",
              "      <td>나동빈</td>\n",
              "      <td>한빛미디어</td>\n",
              "      <td>20200805</td>\n",
              "      <td>1162243074 9791162243077</td>\n",
              "      <td>Python</td>\n",
              "    </tr>\n",
              "    <tr>\n",
              "      <th>1</th>\n",
              "      <td>Do it! 점프 투 파이썬</td>\n",
              "      <td>박응용</td>\n",
              "      <td>이지스퍼블리싱</td>\n",
              "      <td>20190620</td>\n",
              "      <td>1163030910 9791163030911</td>\n",
              "      <td>Python</td>\n",
              "    </tr>\n",
              "    <tr>\n",
              "      <th>2</th>\n",
              "      <td>혼자 공부하는 파이썬 (파이썬 최신 버전 반영)</td>\n",
              "      <td>윤인성</td>\n",
              "      <td>한빛미디어</td>\n",
              "      <td>20190610</td>\n",
              "      <td>1162241888 9791162241882</td>\n",
              "      <td>Python</td>\n",
              "    </tr>\n",
              "    <tr>\n",
              "      <th>3</th>\n",
              "      <td>파이썬 알고리즘 인터뷰 (95가지 알고리즘 문제 풀이로 완성하는 코딩 테스트)</td>\n",
              "      <td>박상길</td>\n",
              "      <td>책만</td>\n",
              "      <td>20200715</td>\n",
              "      <td>1189909170 9791189909178</td>\n",
              "      <td>Python</td>\n",
              "    </tr>\n",
              "    <tr>\n",
              "      <th>4</th>\n",
              "      <td>파이썬 증권 데이터 분석 (파이썬 입문, 웹 스크레이핑, 트레이딩 전략, 자동 매매)</td>\n",
              "      <td>김황후</td>\n",
              "      <td>한빛미디어</td>\n",
              "      <td>20200701</td>\n",
              "      <td>1162243201 9791162243206</td>\n",
              "      <td>Python</td>\n",
              "    </tr>\n",
              "  </tbody>\n",
              "</table>\n",
              "</div>"
            ],
            "text/plain": [
              "                                                  제목   저자      출판사       출판일  \\\n",
              "0  이것이 취업을 위한 코딩 테스트다 with 파이썬 (취업과 이직을 결정하는 알고리즘...  나동빈    한빛미디어  20200805   \n",
              "1                                    Do it! 점프 투 파이썬  박응용  이지스퍼블리싱  20190620   \n",
              "2                         혼자 공부하는 파이썬 (파이썬 최신 버전 반영)  윤인성    한빛미디어  20190610   \n",
              "3        파이썬 알고리즘 인터뷰 (95가지 알고리즘 문제 풀이로 완성하는 코딩 테스트)  박상길       책만  20200715   \n",
              "4    파이썬 증권 데이터 분석 (파이썬 입문, 웹 스크레이핑, 트레이딩 전략, 자동 매매)  김황후    한빛미디어  20200701   \n",
              "\n",
              "                       ISBN      언어  \n",
              "0  1162243074 9791162243077  Python  \n",
              "1  1163030910 9791163030911  Python  \n",
              "2  1162241888 9791162241882  Python  \n",
              "3  1189909170 9791189909178  Python  \n",
              "4  1162243201 9791162243206  Python  "
            ]
          },
          "execution_count": 14,
          "metadata": {},
          "output_type": "execute_result"
        }
      ],
      "source": [
        "df.head()"
      ]
    },
    {
      "cell_type": "code",
      "execution_count": null,
      "id": "d2be37db",
      "metadata": {
        "id": "d2be37db",
        "outputId": "0b453972-5047-42d2-a2f0-51e96368fca2"
      },
      "outputs": [
        {
          "data": {
            "text/plain": [
              "array(['Python', 'C', 'Java', 'C++', 'C#', 'Visual Basic', 'JavaScript',\n",
              "       'SQL', 'PHP', 'R'], dtype=object)"
            ]
          },
          "execution_count": 15,
          "metadata": {},
          "output_type": "execute_result"
        }
      ],
      "source": [
        "df[\"언어\"].unique()"
      ]
    },
    {
      "cell_type": "code",
      "execution_count": null,
      "id": "cee23bda",
      "metadata": {
        "id": "cee23bda",
        "outputId": "878e2372-d3bb-49e1-ff68-3f3ffb91fa22"
      },
      "outputs": [
        {
          "data": {
            "text/html": [
              "<div>\n",
              "<style scoped>\n",
              "    .dataframe tbody tr th:only-of-type {\n",
              "        vertical-align: middle;\n",
              "    }\n",
              "\n",
              "    .dataframe tbody tr th {\n",
              "        vertical-align: top;\n",
              "    }\n",
              "\n",
              "    .dataframe thead th {\n",
              "        text-align: right;\n",
              "    }\n",
              "</style>\n",
              "<table border=\"1\" class=\"dataframe\">\n",
              "  <thead>\n",
              "    <tr style=\"text-align: right;\">\n",
              "      <th></th>\n",
              "      <th>제목</th>\n",
              "      <th>저자</th>\n",
              "      <th>출판사</th>\n",
              "      <th>출판일</th>\n",
              "      <th>ISBN</th>\n",
              "      <th>언어</th>\n",
              "    </tr>\n",
              "  </thead>\n",
              "  <tbody>\n",
              "    <tr>\n",
              "      <th>0</th>\n",
              "      <td>이것이 취업을 위한 코딩 테스트다 with 파이썬 (취업과 이직을 결정하는 알고리즘...</td>\n",
              "      <td>나동빈</td>\n",
              "      <td>한빛미디어</td>\n",
              "      <td>20200805</td>\n",
              "      <td>1162243074 9791162243077</td>\n",
              "      <td>Python</td>\n",
              "    </tr>\n",
              "    <tr>\n",
              "      <th>1</th>\n",
              "      <td>Do it! 점프 투 파이썬</td>\n",
              "      <td>박응용</td>\n",
              "      <td>이지스퍼블리싱</td>\n",
              "      <td>20190620</td>\n",
              "      <td>1163030910 9791163030911</td>\n",
              "      <td>Python</td>\n",
              "    </tr>\n",
              "    <tr>\n",
              "      <th>2</th>\n",
              "      <td>혼자 공부하는 파이썬 (파이썬 최신 버전 반영)</td>\n",
              "      <td>윤인성</td>\n",
              "      <td>한빛미디어</td>\n",
              "      <td>20190610</td>\n",
              "      <td>1162241888 9791162241882</td>\n",
              "      <td>Python</td>\n",
              "    </tr>\n",
              "    <tr>\n",
              "      <th>3</th>\n",
              "      <td>파이썬 알고리즘 인터뷰 (95가지 알고리즘 문제 풀이로 완성하는 코딩 테스트)</td>\n",
              "      <td>박상길</td>\n",
              "      <td>책만</td>\n",
              "      <td>20200715</td>\n",
              "      <td>1189909170 9791189909178</td>\n",
              "      <td>Python</td>\n",
              "    </tr>\n",
              "    <tr>\n",
              "      <th>4</th>\n",
              "      <td>파이썬 증권 데이터 분석 (파이썬 입문, 웹 스크레이핑, 트레이딩 전략, 자동 매매)</td>\n",
              "      <td>김황후</td>\n",
              "      <td>한빛미디어</td>\n",
              "      <td>20200701</td>\n",
              "      <td>1162243201 9791162243206</td>\n",
              "      <td>Python</td>\n",
              "    </tr>\n",
              "    <tr>\n",
              "      <th>...</th>\n",
              "      <td>...</td>\n",
              "      <td>...</td>\n",
              "      <td>...</td>\n",
              "      <td>...</td>\n",
              "      <td>...</td>\n",
              "      <td>...</td>\n",
              "    </tr>\n",
              "    <tr>\n",
              "      <th>215</th>\n",
              "      <td>빅데이터 통계 분석을 위한 R 프로그래밍 레퍼런스 북</td>\n",
              "      <td>이시다 모토히로</td>\n",
              "      <td>교학사</td>\n",
              "      <td>20180120</td>\n",
              "      <td>8909202882 9788909202886</td>\n",
              "      <td>R</td>\n",
              "    </tr>\n",
              "    <tr>\n",
              "      <th>216</th>\n",
              "      <td>R 프로그래밍 (예제로 배우는)</td>\n",
              "      <td>유충현</td>\n",
              "      <td>자유아카데미</td>\n",
              "      <td>20101101</td>\n",
              "      <td>8973388525 9788973388523</td>\n",
              "      <td>R</td>\n",
              "    </tr>\n",
              "    <tr>\n",
              "      <th>217</th>\n",
              "      <td>R 프로그래밍 및 그래픽스 실습</td>\n",
              "      <td>손영숙|전성현</td>\n",
              "      <td>자유아카데미</td>\n",
              "      <td>20180831</td>\n",
              "      <td>1158082002 9791158082000</td>\n",
              "      <td>R</td>\n",
              "    </tr>\n",
              "    <tr>\n",
              "      <th>218</th>\n",
              "      <td>R 프로그래밍 기초 &amp; 활용 (데이터 분석과 통계 프로그래밍을 위한)</td>\n",
              "      <td>래리 페이스</td>\n",
              "      <td>길벗</td>\n",
              "      <td>20130204</td>\n",
              "      <td>8966185231 9788966185238</td>\n",
              "      <td>R</td>\n",
              "    </tr>\n",
              "    <tr>\n",
              "      <th>219</th>\n",
              "      <td>R을 이용한 빅데이터 분석 및 활용 Part 1. R 프로그래밍과 데이터 시각화</td>\n",
              "      <td>허진경</td>\n",
              "      <td>퍼플</td>\n",
              "      <td>20171024</td>\n",
              "      <td>0000291986 1400000291986</td>\n",
              "      <td>R</td>\n",
              "    </tr>\n",
              "  </tbody>\n",
              "</table>\n",
              "<p>220 rows × 6 columns</p>\n",
              "</div>"
            ],
            "text/plain": [
              "                                                    제목        저자      출판사  \\\n",
              "0    이것이 취업을 위한 코딩 테스트다 with 파이썬 (취업과 이직을 결정하는 알고리즘...       나동빈    한빛미디어   \n",
              "1                                      Do it! 점프 투 파이썬       박응용  이지스퍼블리싱   \n",
              "2                           혼자 공부하는 파이썬 (파이썬 최신 버전 반영)       윤인성    한빛미디어   \n",
              "3          파이썬 알고리즘 인터뷰 (95가지 알고리즘 문제 풀이로 완성하는 코딩 테스트)       박상길       책만   \n",
              "4      파이썬 증권 데이터 분석 (파이썬 입문, 웹 스크레이핑, 트레이딩 전략, 자동 매매)       김황후    한빛미디어   \n",
              "..                                                 ...       ...      ...   \n",
              "215                      빅데이터 통계 분석을 위한 R 프로그래밍 레퍼런스 북  이시다 모토히로      교학사   \n",
              "216                                  R 프로그래밍 (예제로 배우는)       유충현   자유아카데미   \n",
              "217                                  R 프로그래밍 및 그래픽스 실습   손영숙|전성현   자유아카데미   \n",
              "218             R 프로그래밍 기초 & 활용 (데이터 분석과 통계 프로그래밍을 위한)    래리 페이스       길벗   \n",
              "219       R을 이용한 빅데이터 분석 및 활용 Part 1. R 프로그래밍과 데이터 시각화       허진경       퍼플   \n",
              "\n",
              "          출판일                      ISBN      언어  \n",
              "0    20200805  1162243074 9791162243077  Python  \n",
              "1    20190620  1163030910 9791163030911  Python  \n",
              "2    20190610  1162241888 9791162241882  Python  \n",
              "3    20200715  1189909170 9791189909178  Python  \n",
              "4    20200701  1162243201 9791162243206  Python  \n",
              "..        ...                       ...     ...  \n",
              "215  20180120  8909202882 9788909202886       R  \n",
              "216  20101101  8973388525 9788973388523       R  \n",
              "217  20180831  1158082002 9791158082000       R  \n",
              "218  20130204  8966185231 9788966185238       R  \n",
              "219  20171024  0000291986 1400000291986       R  \n",
              "\n",
              "[220 rows x 6 columns]"
            ]
          },
          "execution_count": 16,
          "metadata": {},
          "output_type": "execute_result"
        }
      ],
      "source": [
        "df = df.reset_index(drop=True)\n",
        "df"
      ]
    },
    {
      "cell_type": "markdown",
      "id": "43dd72da",
      "metadata": {
        "id": "43dd72da"
      },
      "source": [
        "###  1-4. 중복 데이터 제거"
      ]
    },
    {
      "cell_type": "code",
      "execution_count": null,
      "id": "3b191d22",
      "metadata": {
        "id": "3b191d22",
        "outputId": "ce1e6cac-3588-4395-c68f-5422324b2691"
      },
      "outputs": [
        {
          "data": {
            "text/plain": [
              "217"
            ]
          },
          "execution_count": 17,
          "metadata": {},
          "output_type": "execute_result"
        }
      ],
      "source": [
        "len(df[\"ISBN\"].unique())"
      ]
    },
    {
      "cell_type": "code",
      "execution_count": null,
      "id": "c8b7e677",
      "metadata": {
        "id": "c8b7e677"
      },
      "outputs": [],
      "source": [
        "df.drop_duplicates(subset='ISBN', keep='first', inplace=True, ignore_index=False)"
      ]
    },
    {
      "cell_type": "code",
      "execution_count": null,
      "id": "bf8f0cb5",
      "metadata": {
        "id": "bf8f0cb5",
        "outputId": "4ac159b6-6721-4bab-945d-06d845762b75"
      },
      "outputs": [
        {
          "data": {
            "text/html": [
              "<div>\n",
              "<style scoped>\n",
              "    .dataframe tbody tr th:only-of-type {\n",
              "        vertical-align: middle;\n",
              "    }\n",
              "\n",
              "    .dataframe tbody tr th {\n",
              "        vertical-align: top;\n",
              "    }\n",
              "\n",
              "    .dataframe thead th {\n",
              "        text-align: right;\n",
              "    }\n",
              "</style>\n",
              "<table border=\"1\" class=\"dataframe\">\n",
              "  <thead>\n",
              "    <tr style=\"text-align: right;\">\n",
              "      <th></th>\n",
              "      <th>제목</th>\n",
              "      <th>저자</th>\n",
              "      <th>출판사</th>\n",
              "      <th>출판일</th>\n",
              "      <th>ISBN</th>\n",
              "      <th>언어</th>\n",
              "    </tr>\n",
              "  </thead>\n",
              "  <tbody>\n",
              "    <tr>\n",
              "      <th>0</th>\n",
              "      <td>이것이 취업을 위한 코딩 테스트다 with 파이썬 (취업과 이직을 결정하는 알고리즘...</td>\n",
              "      <td>나동빈</td>\n",
              "      <td>한빛미디어</td>\n",
              "      <td>20200805</td>\n",
              "      <td>1162243074 9791162243077</td>\n",
              "      <td>Python</td>\n",
              "    </tr>\n",
              "    <tr>\n",
              "      <th>1</th>\n",
              "      <td>Do it! 점프 투 파이썬</td>\n",
              "      <td>박응용</td>\n",
              "      <td>이지스퍼블리싱</td>\n",
              "      <td>20190620</td>\n",
              "      <td>1163030910 9791163030911</td>\n",
              "      <td>Python</td>\n",
              "    </tr>\n",
              "    <tr>\n",
              "      <th>2</th>\n",
              "      <td>혼자 공부하는 파이썬 (파이썬 최신 버전 반영)</td>\n",
              "      <td>윤인성</td>\n",
              "      <td>한빛미디어</td>\n",
              "      <td>20190610</td>\n",
              "      <td>1162241888 9791162241882</td>\n",
              "      <td>Python</td>\n",
              "    </tr>\n",
              "    <tr>\n",
              "      <th>3</th>\n",
              "      <td>파이썬 알고리즘 인터뷰 (95가지 알고리즘 문제 풀이로 완성하는 코딩 테스트)</td>\n",
              "      <td>박상길</td>\n",
              "      <td>책만</td>\n",
              "      <td>20200715</td>\n",
              "      <td>1189909170 9791189909178</td>\n",
              "      <td>Python</td>\n",
              "    </tr>\n",
              "    <tr>\n",
              "      <th>4</th>\n",
              "      <td>파이썬 증권 데이터 분석 (파이썬 입문, 웹 스크레이핑, 트레이딩 전략, 자동 매매)</td>\n",
              "      <td>김황후</td>\n",
              "      <td>한빛미디어</td>\n",
              "      <td>20200701</td>\n",
              "      <td>1162243201 9791162243206</td>\n",
              "      <td>Python</td>\n",
              "    </tr>\n",
              "    <tr>\n",
              "      <th>...</th>\n",
              "      <td>...</td>\n",
              "      <td>...</td>\n",
              "      <td>...</td>\n",
              "      <td>...</td>\n",
              "      <td>...</td>\n",
              "      <td>...</td>\n",
              "    </tr>\n",
              "    <tr>\n",
              "      <th>212</th>\n",
              "      <td>빅데이터 통계 분석을 위한 R 프로그래밍 레퍼런스 북</td>\n",
              "      <td>이시다 모토히로</td>\n",
              "      <td>교학사</td>\n",
              "      <td>20180120</td>\n",
              "      <td>8909202882 9788909202886</td>\n",
              "      <td>R</td>\n",
              "    </tr>\n",
              "    <tr>\n",
              "      <th>213</th>\n",
              "      <td>R 프로그래밍 (예제로 배우는)</td>\n",
              "      <td>유충현</td>\n",
              "      <td>자유아카데미</td>\n",
              "      <td>20101101</td>\n",
              "      <td>8973388525 9788973388523</td>\n",
              "      <td>R</td>\n",
              "    </tr>\n",
              "    <tr>\n",
              "      <th>214</th>\n",
              "      <td>R 프로그래밍 및 그래픽스 실습</td>\n",
              "      <td>손영숙|전성현</td>\n",
              "      <td>자유아카데미</td>\n",
              "      <td>20180831</td>\n",
              "      <td>1158082002 9791158082000</td>\n",
              "      <td>R</td>\n",
              "    </tr>\n",
              "    <tr>\n",
              "      <th>215</th>\n",
              "      <td>R 프로그래밍 기초 &amp; 활용 (데이터 분석과 통계 프로그래밍을 위한)</td>\n",
              "      <td>래리 페이스</td>\n",
              "      <td>길벗</td>\n",
              "      <td>20130204</td>\n",
              "      <td>8966185231 9788966185238</td>\n",
              "      <td>R</td>\n",
              "    </tr>\n",
              "    <tr>\n",
              "      <th>216</th>\n",
              "      <td>R을 이용한 빅데이터 분석 및 활용 Part 1. R 프로그래밍과 데이터 시각화</td>\n",
              "      <td>허진경</td>\n",
              "      <td>퍼플</td>\n",
              "      <td>20171024</td>\n",
              "      <td>0000291986 1400000291986</td>\n",
              "      <td>R</td>\n",
              "    </tr>\n",
              "  </tbody>\n",
              "</table>\n",
              "<p>217 rows × 6 columns</p>\n",
              "</div>"
            ],
            "text/plain": [
              "                                                    제목        저자      출판사  \\\n",
              "0    이것이 취업을 위한 코딩 테스트다 with 파이썬 (취업과 이직을 결정하는 알고리즘...       나동빈    한빛미디어   \n",
              "1                                      Do it! 점프 투 파이썬       박응용  이지스퍼블리싱   \n",
              "2                           혼자 공부하는 파이썬 (파이썬 최신 버전 반영)       윤인성    한빛미디어   \n",
              "3          파이썬 알고리즘 인터뷰 (95가지 알고리즘 문제 풀이로 완성하는 코딩 테스트)       박상길       책만   \n",
              "4      파이썬 증권 데이터 분석 (파이썬 입문, 웹 스크레이핑, 트레이딩 전략, 자동 매매)       김황후    한빛미디어   \n",
              "..                                                 ...       ...      ...   \n",
              "212                      빅데이터 통계 분석을 위한 R 프로그래밍 레퍼런스 북  이시다 모토히로      교학사   \n",
              "213                                  R 프로그래밍 (예제로 배우는)       유충현   자유아카데미   \n",
              "214                                  R 프로그래밍 및 그래픽스 실습   손영숙|전성현   자유아카데미   \n",
              "215             R 프로그래밍 기초 & 활용 (데이터 분석과 통계 프로그래밍을 위한)    래리 페이스       길벗   \n",
              "216       R을 이용한 빅데이터 분석 및 활용 Part 1. R 프로그래밍과 데이터 시각화       허진경       퍼플   \n",
              "\n",
              "          출판일                      ISBN      언어  \n",
              "0    20200805  1162243074 9791162243077  Python  \n",
              "1    20190620  1163030910 9791163030911  Python  \n",
              "2    20190610  1162241888 9791162241882  Python  \n",
              "3    20200715  1189909170 9791189909178  Python  \n",
              "4    20200701  1162243201 9791162243206  Python  \n",
              "..        ...                       ...     ...  \n",
              "212  20180120  8909202882 9788909202886       R  \n",
              "213  20101101  8973388525 9788973388523       R  \n",
              "214  20180831  1158082002 9791158082000       R  \n",
              "215  20130204  8966185231 9788966185238       R  \n",
              "216  20171024  0000291986 1400000291986       R  \n",
              "\n",
              "[217 rows x 6 columns]"
            ]
          },
          "execution_count": 19,
          "metadata": {},
          "output_type": "execute_result"
        }
      ],
      "source": [
        "df = df.reset_index(drop=True)\n",
        "df"
      ]
    },
    {
      "cell_type": "markdown",
      "id": "d2b7141d",
      "metadata": {
        "id": "d2b7141d"
      },
      "source": [
        "## 2. 데이터 시각화"
      ]
    },
    {
      "cell_type": "code",
      "execution_count": null,
      "id": "1dbfb72e",
      "metadata": {
        "id": "1dbfb72e",
        "outputId": "22a55ae3-d387-46f0-84a0-ed9086af7cd7"
      },
      "outputs": [
        {
          "data": {
            "text/plain": [
              "[1381, 15974, 16541, 7906, 3519, 8433, 2020, 10352, 17819, 576]"
            ]
          },
          "execution_count": 20,
          "metadata": {},
          "output_type": "execute_result"
        }
      ],
      "source": [
        "language = ['파이썬', 'C언어', 'Java', 'C++', 'C#', 'Visual Basic','자바스크립트', 'SQL', 'PHP', 'R프로그래밍']\n",
        "book_category = ['Python', 'C', 'Java', 'C++', 'C#', 'Visual Basic','JavaScript', 'SQL', 'PHP', 'R']\n",
        "book_count = []\n",
        "\n",
        "def count_books(language):\n",
        "    url = gen_search_url(\"book\", language, 1, 20)\n",
        "    one_result = get_result_onpage(url)\n",
        "    book_count.append(one_result[\"total\"])\n",
        "\n",
        "for name in language:\n",
        "    count_books(name)\n",
        "    \n",
        "book_count"
      ]
    },
    {
      "cell_type": "code",
      "execution_count": null,
      "id": "a98e3c6e",
      "metadata": {
        "id": "a98e3c6e",
        "outputId": "cff2ae10-470e-4a52-9cc4-dafc87689d90"
      },
      "outputs": [
        {
          "data": {
            "text/html": [
              "<div>\n",
              "<style scoped>\n",
              "    .dataframe tbody tr th:only-of-type {\n",
              "        vertical-align: middle;\n",
              "    }\n",
              "\n",
              "    .dataframe tbody tr th {\n",
              "        vertical-align: top;\n",
              "    }\n",
              "\n",
              "    .dataframe thead th {\n",
              "        text-align: right;\n",
              "    }\n",
              "</style>\n",
              "<table border=\"1\" class=\"dataframe\">\n",
              "  <thead>\n",
              "    <tr style=\"text-align: right;\">\n",
              "      <th></th>\n",
              "      <th>언어</th>\n",
              "      <th>출판물 수</th>\n",
              "    </tr>\n",
              "  </thead>\n",
              "  <tbody>\n",
              "    <tr>\n",
              "      <th>0</th>\n",
              "      <td>Python</td>\n",
              "      <td>1381</td>\n",
              "    </tr>\n",
              "    <tr>\n",
              "      <th>1</th>\n",
              "      <td>C</td>\n",
              "      <td>15974</td>\n",
              "    </tr>\n",
              "    <tr>\n",
              "      <th>2</th>\n",
              "      <td>Java</td>\n",
              "      <td>16541</td>\n",
              "    </tr>\n",
              "    <tr>\n",
              "      <th>3</th>\n",
              "      <td>C++</td>\n",
              "      <td>7906</td>\n",
              "    </tr>\n",
              "    <tr>\n",
              "      <th>4</th>\n",
              "      <td>C#</td>\n",
              "      <td>3519</td>\n",
              "    </tr>\n",
              "    <tr>\n",
              "      <th>5</th>\n",
              "      <td>Visual Basic</td>\n",
              "      <td>8433</td>\n",
              "    </tr>\n",
              "    <tr>\n",
              "      <th>6</th>\n",
              "      <td>JavaScript</td>\n",
              "      <td>2020</td>\n",
              "    </tr>\n",
              "    <tr>\n",
              "      <th>7</th>\n",
              "      <td>SQL</td>\n",
              "      <td>10352</td>\n",
              "    </tr>\n",
              "    <tr>\n",
              "      <th>8</th>\n",
              "      <td>PHP</td>\n",
              "      <td>17819</td>\n",
              "    </tr>\n",
              "    <tr>\n",
              "      <th>9</th>\n",
              "      <td>R</td>\n",
              "      <td>576</td>\n",
              "    </tr>\n",
              "  </tbody>\n",
              "</table>\n",
              "</div>"
            ],
            "text/plain": [
              "             언어  출판물 수\n",
              "0        Python   1381\n",
              "1             C  15974\n",
              "2          Java  16541\n",
              "3           C++   7906\n",
              "4            C#   3519\n",
              "5  Visual Basic   8433\n",
              "6    JavaScript   2020\n",
              "7           SQL  10352\n",
              "8           PHP  17819\n",
              "9             R    576"
            ]
          },
          "execution_count": 21,
          "metadata": {},
          "output_type": "execute_result"
        }
      ],
      "source": [
        "df_book_count = pd.DataFrame(list(zip(book_category,book_count)), columns = ['언어','출판물 수'])\n",
        "df_book_count"
      ]
    },
    {
      "cell_type": "markdown",
      "id": "7176af73",
      "metadata": {
        "id": "7176af73"
      },
      "source": [
        "### 2-1. 각 언어별 출판물 순위"
      ]
    },
    {
      "cell_type": "code",
      "execution_count": null,
      "id": "358e413c",
      "metadata": {
        "scrolled": true,
        "id": "358e413c",
        "outputId": "bffccd1f-3600-4da6-e67e-9680c2b2a43c"
      },
      "outputs": [
        {
          "data": {
            "text/html": [
              "<div>\n",
              "<style scoped>\n",
              "    .dataframe tbody tr th:only-of-type {\n",
              "        vertical-align: middle;\n",
              "    }\n",
              "\n",
              "    .dataframe tbody tr th {\n",
              "        vertical-align: top;\n",
              "    }\n",
              "\n",
              "    .dataframe thead th {\n",
              "        text-align: right;\n",
              "    }\n",
              "</style>\n",
              "<table border=\"1\" class=\"dataframe\">\n",
              "  <thead>\n",
              "    <tr style=\"text-align: right;\">\n",
              "      <th></th>\n",
              "      <th>언어</th>\n",
              "      <th>출판물 수</th>\n",
              "    </tr>\n",
              "  </thead>\n",
              "  <tbody>\n",
              "    <tr>\n",
              "      <th>1</th>\n",
              "      <td>PHP</td>\n",
              "      <td>17819</td>\n",
              "    </tr>\n",
              "    <tr>\n",
              "      <th>2</th>\n",
              "      <td>Java</td>\n",
              "      <td>16541</td>\n",
              "    </tr>\n",
              "    <tr>\n",
              "      <th>3</th>\n",
              "      <td>C</td>\n",
              "      <td>15974</td>\n",
              "    </tr>\n",
              "    <tr>\n",
              "      <th>4</th>\n",
              "      <td>SQL</td>\n",
              "      <td>10352</td>\n",
              "    </tr>\n",
              "    <tr>\n",
              "      <th>5</th>\n",
              "      <td>Visual Basic</td>\n",
              "      <td>8433</td>\n",
              "    </tr>\n",
              "    <tr>\n",
              "      <th>6</th>\n",
              "      <td>C++</td>\n",
              "      <td>7906</td>\n",
              "    </tr>\n",
              "    <tr>\n",
              "      <th>7</th>\n",
              "      <td>C#</td>\n",
              "      <td>3519</td>\n",
              "    </tr>\n",
              "    <tr>\n",
              "      <th>8</th>\n",
              "      <td>JavaScript</td>\n",
              "      <td>2020</td>\n",
              "    </tr>\n",
              "    <tr>\n",
              "      <th>9</th>\n",
              "      <td>Python</td>\n",
              "      <td>1381</td>\n",
              "    </tr>\n",
              "    <tr>\n",
              "      <th>10</th>\n",
              "      <td>R</td>\n",
              "      <td>576</td>\n",
              "    </tr>\n",
              "  </tbody>\n",
              "</table>\n",
              "</div>"
            ],
            "text/plain": [
              "              언어  출판물 수\n",
              "1            PHP  17819\n",
              "2           Java  16541\n",
              "3              C  15974\n",
              "4            SQL  10352\n",
              "5   Visual Basic   8433\n",
              "6            C++   7906\n",
              "7             C#   3519\n",
              "8     JavaScript   2020\n",
              "9         Python   1381\n",
              "10             R    576"
            ]
          },
          "execution_count": 22,
          "metadata": {},
          "output_type": "execute_result"
        }
      ],
      "source": [
        "df_book_sorted = df_book_count.sort_values('출판물 수', ascending=False).copy()\n",
        "df_book_sorted = df_book_sorted.reset_index(drop=True)\n",
        "df_book_sorted.index = df_book_sorted.index+1\n",
        "df_book_sorted"
      ]
    },
    {
      "cell_type": "markdown",
      "id": "ee7e315b",
      "metadata": {
        "id": "ee7e315b"
      },
      "source": [
        "### 2-2. 출판물 순위 시각화"
      ]
    },
    {
      "cell_type": "code",
      "execution_count": null,
      "id": "a81d0a07",
      "metadata": {
        "id": "a81d0a07"
      },
      "outputs": [],
      "source": [
        "import seaborn as sns\n",
        "import matplotlib.pyplot as plt\n",
        "from matplotlib import rc\n",
        "\n",
        "rc('font', family=\"Arial Unicode MS\")\n",
        "get_ipython().run_line_magic('matplotlib', 'inline')"
      ]
    },
    {
      "cell_type": "code",
      "execution_count": null,
      "id": "a9a869d6",
      "metadata": {
        "id": "a9a869d6",
        "outputId": "4e2fe0a2-edc5-4186-c5a4-36e5c480c50b"
      },
      "outputs": [
        {
          "data": {
            "text/plain": [
              "<AxesSubplot:xlabel='언어', ylabel='출판물 수'>"
            ]
          },
          "execution_count": 24,
          "metadata": {},
          "output_type": "execute_result"
        },
        {
          "data": {
            "image/png": "[encoded data removed]",
            "text/plain": [
              "<Figure size 1080x432 with 1 Axes>"
            ]
          },
          "metadata": {
            "needs_background": "light"
          },
          "output_type": "display_data"
        }
      ],
      "source": [
        "plt.figure(figsize=(15,6))\n",
        "sns.barplot(data=df_book_sorted, x='언어', y='출판물 수', palette=\"RdYlGn\")"
      ]
    },
    {
      "cell_type": "code",
      "execution_count": null,
      "id": "07996236",
      "metadata": {
        "id": "07996236",
        "outputId": "5271defc-75d6-476a-b038-d0aac2ff4f59"
      },
      "outputs": [
        {
          "data": {
            "text/html": [
              "<div>\n",
              "<style scoped>\n",
              "    .dataframe tbody tr th:only-of-type {\n",
              "        vertical-align: middle;\n",
              "    }\n",
              "\n",
              "    .dataframe tbody tr th {\n",
              "        vertical-align: top;\n",
              "    }\n",
              "\n",
              "    .dataframe thead th {\n",
              "        text-align: right;\n",
              "    }\n",
              "</style>\n",
              "<table border=\"1\" class=\"dataframe\">\n",
              "  <thead>\n",
              "    <tr style=\"text-align: right;\">\n",
              "      <th></th>\n",
              "      <th>제목</th>\n",
              "      <th>저자</th>\n",
              "      <th>출판사</th>\n",
              "      <th>출판일</th>\n",
              "      <th>ISBN</th>\n",
              "      <th>언어</th>\n",
              "    </tr>\n",
              "  </thead>\n",
              "  <tbody>\n",
              "    <tr>\n",
              "      <th>0</th>\n",
              "      <td>이것이 취업을 위한 코딩 테스트다 with 파이썬 (취업과 이직을 결정하는 알고리즘...</td>\n",
              "      <td>나동빈</td>\n",
              "      <td>한빛미디어</td>\n",
              "      <td>20200805</td>\n",
              "      <td>1162243074 9791162243077</td>\n",
              "      <td>Python</td>\n",
              "    </tr>\n",
              "    <tr>\n",
              "      <th>1</th>\n",
              "      <td>Do it! 점프 투 파이썬</td>\n",
              "      <td>박응용</td>\n",
              "      <td>이지스퍼블리싱</td>\n",
              "      <td>20190620</td>\n",
              "      <td>1163030910 9791163030911</td>\n",
              "      <td>Python</td>\n",
              "    </tr>\n",
              "    <tr>\n",
              "      <th>2</th>\n",
              "      <td>혼자 공부하는 파이썬 (파이썬 최신 버전 반영)</td>\n",
              "      <td>윤인성</td>\n",
              "      <td>한빛미디어</td>\n",
              "      <td>20190610</td>\n",
              "      <td>1162241888 9791162241882</td>\n",
              "      <td>Python</td>\n",
              "    </tr>\n",
              "    <tr>\n",
              "      <th>3</th>\n",
              "      <td>파이썬 알고리즘 인터뷰 (95가지 알고리즘 문제 풀이로 완성하는 코딩 테스트)</td>\n",
              "      <td>박상길</td>\n",
              "      <td>책만</td>\n",
              "      <td>20200715</td>\n",
              "      <td>1189909170 9791189909178</td>\n",
              "      <td>Python</td>\n",
              "    </tr>\n",
              "    <tr>\n",
              "      <th>4</th>\n",
              "      <td>파이썬 증권 데이터 분석 (파이썬 입문, 웹 스크레이핑, 트레이딩 전략, 자동 매매)</td>\n",
              "      <td>김황후</td>\n",
              "      <td>한빛미디어</td>\n",
              "      <td>20200701</td>\n",
              "      <td>1162243201 9791162243206</td>\n",
              "      <td>Python</td>\n",
              "    </tr>\n",
              "  </tbody>\n",
              "</table>\n",
              "</div>"
            ],
            "text/plain": [
              "                                                  제목   저자      출판사       출판일  \\\n",
              "0  이것이 취업을 위한 코딩 테스트다 with 파이썬 (취업과 이직을 결정하는 알고리즘...  나동빈    한빛미디어  20200805   \n",
              "1                                    Do it! 점프 투 파이썬  박응용  이지스퍼블리싱  20190620   \n",
              "2                         혼자 공부하는 파이썬 (파이썬 최신 버전 반영)  윤인성    한빛미디어  20190610   \n",
              "3        파이썬 알고리즘 인터뷰 (95가지 알고리즘 문제 풀이로 완성하는 코딩 테스트)  박상길       책만  20200715   \n",
              "4    파이썬 증권 데이터 분석 (파이썬 입문, 웹 스크레이핑, 트레이딩 전략, 자동 매매)  김황후    한빛미디어  20200701   \n",
              "\n",
              "                       ISBN      언어  \n",
              "0  1162243074 9791162243077  Python  \n",
              "1  1163030910 9791163030911  Python  \n",
              "2  1162241888 9791162241882  Python  \n",
              "3  1189909170 9791189909178  Python  \n",
              "4  1162243201 9791162243206  Python  "
            ]
          },
          "execution_count": 25,
          "metadata": {},
          "output_type": "execute_result"
        }
      ],
      "source": [
        "df.head()"
      ]
    },
    {
      "cell_type": "markdown",
      "id": "0cdc08d8",
      "metadata": {
        "id": "0cdc08d8"
      },
      "source": [
        "### 2-3. 우리나라의 컴퓨터 언어 관련 출판사 순위 확인"
      ]
    },
    {
      "cell_type": "code",
      "execution_count": null,
      "id": "80abf451",
      "metadata": {
        "scrolled": true,
        "id": "80abf451",
        "outputId": "501a44d3-2d71-4774-e440-9ce083866c6c"
      },
      "outputs": [
        {
          "data": {
            "text/plain": [
              "array(['한빛미디어', '이지스퍼블리싱', '책만', '위키북스', '앤써북', '파이스탁', '길벗', '한빛아카데미',\n",
              "       '비제이퍼블릭', '정보문화사', 'PragmaticBookshelf', '인피니티북스', \"O'ReillyMedia\",\n",
              "       '영진닷컴', '제이펍', '자유아카데미', '청람', '생능출판사', 'PacktPublishingLimited',\n",
              "       'Springer', 'Apress', 'BOOKK(부크크)', '경문사', '성안당', '서현사', '생능출판',\n",
              "       '아이생각(디지털북스)', '복두출판사', '삼양미디어', '부산대학교출판부', '도우출판', '광문각',\n",
              "       '한빛아카데미(교재)', '인사이트', '오렌지미디어', '이한미디어', 'ForDummies', 'タック',\n",
              "       '프로텍미디어', '에이콘출판', '한국방송통신대학교출판문화원', '투에이치앤에스', '북스홀릭퍼블리싱', '책밥상',\n",
              "       'WroxPress', '혜지원', '황소걸음아카데미', '가메', 'Wiley-IEEEPress', '교학사',\n",
              "       '이한출판사', '사이버출판사', '지코사이언스', '인터비젼', '기한재', '삼각형',\n",
              "       'JohnWiley&Sons', '중앙교육진흥연구소', '다락원', '달무리', '영진.com(영진닷컴)',\n",
              "       '한국데이터산업진흥원', '한국데이터진흥원', '디비안(DBian)', '책밥', 'PHP硏究所',\n",
              "       'Sitepoint', '남가람북스', '부산대학교출판문화원', '느린생각', '내하출판사', '퍼플'],\n",
              "      dtype=object)"
            ]
          },
          "execution_count": 26,
          "metadata": {},
          "output_type": "execute_result"
        }
      ],
      "source": [
        "df['출판사'].unique()"
      ]
    },
    {
      "cell_type": "code",
      "execution_count": null,
      "id": "5e3bbc9e",
      "metadata": {
        "id": "5e3bbc9e",
        "outputId": "ee037f8e-6ee7-446c-9b51-a01f985ebcb0"
      },
      "outputs": [
        {
          "data": {
            "text/plain": [
              "72"
            ]
          },
          "execution_count": 27,
          "metadata": {},
          "output_type": "execute_result"
        }
      ],
      "source": [
        "len(df['출판사'].unique())"
      ]
    },
    {
      "cell_type": "code",
      "execution_count": null,
      "id": "fe245d3e",
      "metadata": {
        "scrolled": true,
        "id": "fe245d3e",
        "outputId": "877a543f-b8a5-4aff-e0be-496e27e787bd"
      },
      "outputs": [
        {
          "data": {
            "text/plain": [
              "한빛미디어      29\n",
              "길벗         15\n",
              "위키북스       13\n",
              "PHP硏究所     11\n",
              "생능출판사      11\n",
              "인피니티북스      9\n",
              "이지스퍼블리싱     9\n",
              "인사이트        7\n",
              "에이콘출판       6\n",
              "한빛아카데미      5\n",
              "Name: 출판사, dtype: int64"
            ]
          },
          "execution_count": 28,
          "metadata": {},
          "output_type": "execute_result"
        }
      ],
      "source": [
        "df['출판사'].value_counts().head(10)"
      ]
    },
    {
      "cell_type": "code",
      "execution_count": null,
      "id": "3740277a",
      "metadata": {
        "id": "3740277a",
        "outputId": "8df95b16-a37f-4058-83cf-6594d07f3676"
      },
      "outputs": [
        {
          "data": {
            "image/png": "[encoded data removed]",
            "text/plain": [
              "<Figure size 1080x432 with 1 Axes>"
            ]
          },
          "metadata": {
            "needs_background": "light"
          },
          "output_type": "display_data"
        }
      ],
      "source": [
        "plt.figure(figsize=(15,6))\n",
        "sns.countplot(\n",
        "    x=df[\"출판사\"], \n",
        "    data=df,\n",
        "    palette=\"RdYlGn\",\n",
        "    order=df[\"출판사\"].value_counts().head(10).index\n",
        ")\n",
        "plt.show()"
      ]
    },
    {
      "cell_type": "markdown",
      "id": "da22d57e",
      "metadata": {
        "id": "da22d57e"
      },
      "source": [
        "### 2-4.  2020년-2021년 데이터와 2017-2019년 데이터 비교"
      ]
    },
    {
      "cell_type": "code",
      "execution_count": null,
      "id": "31c3d2fb",
      "metadata": {
        "scrolled": true,
        "id": "31c3d2fb",
        "outputId": "979d05aa-9ecd-4424-900d-07e8ba7676d2"
      },
      "outputs": [
        {
          "name": "stdout",
          "output_type": "stream",
          "text": [
            "<class 'pandas.core.frame.DataFrame'>\n",
            "RangeIndex: 217 entries, 0 to 216\n",
            "Data columns (total 6 columns):\n",
            " #   Column  Non-Null Count  Dtype \n",
            "---  ------  --------------  ----- \n",
            " 0   제목      217 non-null    object\n",
            " 1   저자      217 non-null    object\n",
            " 2   출판사     217 non-null    object\n",
            " 3   출판일     217 non-null    object\n",
            " 4   ISBN    217 non-null    object\n",
            " 5   언어      217 non-null    object\n",
            "dtypes: object(6)\n",
            "memory usage: 10.3+ KB\n"
          ]
        }
      ],
      "source": [
        "# 데이터 타입 확인\n",
        "df.info()"
      ]
    },
    {
      "cell_type": "code",
      "execution_count": null,
      "id": "bb7c3231",
      "metadata": {
        "id": "bb7c3231"
      },
      "outputs": [],
      "source": [
        "# 이상치 수정\n",
        "df.loc[df['출판일'] == '20211000', '출판일'] = '20210909'"
      ]
    },
    {
      "cell_type": "code",
      "execution_count": null,
      "id": "d18365ca",
      "metadata": {
        "id": "d18365ca"
      },
      "outputs": [],
      "source": [
        "# 데이터 타입을 문자열 => 날짜 타입으로 변경\n",
        "df['출판일'] = pd.to_datetime(df['출판일'])"
      ]
    },
    {
      "cell_type": "code",
      "execution_count": null,
      "id": "882f88b1",
      "metadata": {
        "id": "882f88b1",
        "outputId": "450eca32-5caf-4fae-c237-699b549666eb"
      },
      "outputs": [
        {
          "name": "stdout",
          "output_type": "stream",
          "text": [
            "<class 'pandas.core.frame.DataFrame'>\n",
            "RangeIndex: 217 entries, 0 to 216\n",
            "Data columns (total 6 columns):\n",
            " #   Column  Non-Null Count  Dtype         \n",
            "---  ------  --------------  -----         \n",
            " 0   제목      217 non-null    object        \n",
            " 1   저자      217 non-null    object        \n",
            " 2   출판사     217 non-null    object        \n",
            " 3   출판일     217 non-null    datetime64[ns]\n",
            " 4   ISBN    217 non-null    object        \n",
            " 5   언어      217 non-null    object        \n",
            "dtypes: datetime64[ns](1), object(5)\n",
            "memory usage: 10.3+ KB\n"
          ]
        }
      ],
      "source": [
        "df.info()"
      ]
    },
    {
      "cell_type": "code",
      "execution_count": null,
      "id": "0f8f48d4",
      "metadata": {
        "id": "0f8f48d4",
        "outputId": "4d99b537-6125-4c4b-d13d-fb1d768ee5af"
      },
      "outputs": [
        {
          "data": {
            "text/html": [
              "<div>\n",
              "<style scoped>\n",
              "    .dataframe tbody tr th:only-of-type {\n",
              "        vertical-align: middle;\n",
              "    }\n",
              "\n",
              "    .dataframe tbody tr th {\n",
              "        vertical-align: top;\n",
              "    }\n",
              "\n",
              "    .dataframe thead th {\n",
              "        text-align: right;\n",
              "    }\n",
              "</style>\n",
              "<table border=\"1\" class=\"dataframe\">\n",
              "  <thead>\n",
              "    <tr style=\"text-align: right;\">\n",
              "      <th></th>\n",
              "      <th>제목</th>\n",
              "      <th>저자</th>\n",
              "      <th>출판사</th>\n",
              "      <th>출판일</th>\n",
              "      <th>ISBN</th>\n",
              "      <th>언어</th>\n",
              "    </tr>\n",
              "  </thead>\n",
              "  <tbody>\n",
              "    <tr>\n",
              "      <th>0</th>\n",
              "      <td>이것이 취업을 위한 코딩 테스트다 with 파이썬 (취업과 이직을 결정하는 알고리즘...</td>\n",
              "      <td>나동빈</td>\n",
              "      <td>한빛미디어</td>\n",
              "      <td>2020-08-05</td>\n",
              "      <td>1162243074 9791162243077</td>\n",
              "      <td>Python</td>\n",
              "    </tr>\n",
              "    <tr>\n",
              "      <th>1</th>\n",
              "      <td>Do it! 점프 투 파이썬</td>\n",
              "      <td>박응용</td>\n",
              "      <td>이지스퍼블리싱</td>\n",
              "      <td>2019-06-20</td>\n",
              "      <td>1163030910 9791163030911</td>\n",
              "      <td>Python</td>\n",
              "    </tr>\n",
              "    <tr>\n",
              "      <th>2</th>\n",
              "      <td>혼자 공부하는 파이썬 (파이썬 최신 버전 반영)</td>\n",
              "      <td>윤인성</td>\n",
              "      <td>한빛미디어</td>\n",
              "      <td>2019-06-10</td>\n",
              "      <td>1162241888 9791162241882</td>\n",
              "      <td>Python</td>\n",
              "    </tr>\n",
              "    <tr>\n",
              "      <th>3</th>\n",
              "      <td>파이썬 알고리즘 인터뷰 (95가지 알고리즘 문제 풀이로 완성하는 코딩 테스트)</td>\n",
              "      <td>박상길</td>\n",
              "      <td>책만</td>\n",
              "      <td>2020-07-15</td>\n",
              "      <td>1189909170 9791189909178</td>\n",
              "      <td>Python</td>\n",
              "    </tr>\n",
              "    <tr>\n",
              "      <th>4</th>\n",
              "      <td>파이썬 증권 데이터 분석 (파이썬 입문, 웹 스크레이핑, 트레이딩 전략, 자동 매매)</td>\n",
              "      <td>김황후</td>\n",
              "      <td>한빛미디어</td>\n",
              "      <td>2020-07-01</td>\n",
              "      <td>1162243201 9791162243206</td>\n",
              "      <td>Python</td>\n",
              "    </tr>\n",
              "  </tbody>\n",
              "</table>\n",
              "</div>"
            ],
            "text/plain": [
              "                                                  제목   저자      출판사        출판일  \\\n",
              "0  이것이 취업을 위한 코딩 테스트다 with 파이썬 (취업과 이직을 결정하는 알고리즘...  나동빈    한빛미디어 2020-08-05   \n",
              "1                                    Do it! 점프 투 파이썬  박응용  이지스퍼블리싱 2019-06-20   \n",
              "2                         혼자 공부하는 파이썬 (파이썬 최신 버전 반영)  윤인성    한빛미디어 2019-06-10   \n",
              "3        파이썬 알고리즘 인터뷰 (95가지 알고리즘 문제 풀이로 완성하는 코딩 테스트)  박상길       책만 2020-07-15   \n",
              "4    파이썬 증권 데이터 분석 (파이썬 입문, 웹 스크레이핑, 트레이딩 전략, 자동 매매)  김황후    한빛미디어 2020-07-01   \n",
              "\n",
              "                       ISBN      언어  \n",
              "0  1162243074 9791162243077  Python  \n",
              "1  1163030910 9791163030911  Python  \n",
              "2  1162241888 9791162241882  Python  \n",
              "3  1189909170 9791189909178  Python  \n",
              "4  1162243201 9791162243206  Python  "
            ]
          },
          "execution_count": 34,
          "metadata": {},
          "output_type": "execute_result"
        }
      ],
      "source": [
        "df.head()"
      ]
    },
    {
      "cell_type": "code",
      "execution_count": null,
      "id": "7bbe62f3",
      "metadata": {
        "id": "7bbe62f3",
        "outputId": "14b44ee2-0d46-4a53-dda0-6ed14b20766a"
      },
      "outputs": [
        {
          "data": {
            "text/html": [
              "<div>\n",
              "<style scoped>\n",
              "    .dataframe tbody tr th:only-of-type {\n",
              "        vertical-align: middle;\n",
              "    }\n",
              "\n",
              "    .dataframe tbody tr th {\n",
              "        vertical-align: top;\n",
              "    }\n",
              "\n",
              "    .dataframe thead th {\n",
              "        text-align: right;\n",
              "    }\n",
              "</style>\n",
              "<table border=\"1\" class=\"dataframe\">\n",
              "  <thead>\n",
              "    <tr style=\"text-align: right;\">\n",
              "      <th></th>\n",
              "      <th>제목</th>\n",
              "      <th>저자</th>\n",
              "      <th>출판사</th>\n",
              "      <th>출판일</th>\n",
              "      <th>ISBN</th>\n",
              "      <th>언어</th>\n",
              "    </tr>\n",
              "  </thead>\n",
              "  <tbody>\n",
              "    <tr>\n",
              "      <th>0</th>\n",
              "      <td>이것이 취업을 위한 코딩 테스트다 with 파이썬 (취업과 이직을 결정하는 알고리즘...</td>\n",
              "      <td>나동빈</td>\n",
              "      <td>한빛미디어</td>\n",
              "      <td>2020-08-05</td>\n",
              "      <td>1162243074 9791162243077</td>\n",
              "      <td>Python</td>\n",
              "    </tr>\n",
              "    <tr>\n",
              "      <th>3</th>\n",
              "      <td>파이썬 알고리즘 인터뷰 (95가지 알고리즘 문제 풀이로 완성하는 코딩 테스트)</td>\n",
              "      <td>박상길</td>\n",
              "      <td>책만</td>\n",
              "      <td>2020-07-15</td>\n",
              "      <td>1189909170 9791189909178</td>\n",
              "      <td>Python</td>\n",
              "    </tr>\n",
              "    <tr>\n",
              "      <th>4</th>\n",
              "      <td>파이썬 증권 데이터 분석 (파이썬 입문, 웹 스크레이핑, 트레이딩 전략, 자동 매매)</td>\n",
              "      <td>김황후</td>\n",
              "      <td>한빛미디어</td>\n",
              "      <td>2020-07-01</td>\n",
              "      <td>1162243201 9791162243206</td>\n",
              "      <td>Python</td>\n",
              "    </tr>\n",
              "    <tr>\n",
              "      <th>5</th>\n",
              "      <td>파이썬 머신러닝 완벽 가이드 (다양한 캐글 예제와 함께 기초 알고리즘부터 최신 기법...</td>\n",
              "      <td>권철민</td>\n",
              "      <td>위키북스</td>\n",
              "      <td>2020-02-07</td>\n",
              "      <td>1158391927 9791158391928</td>\n",
              "      <td>Python</td>\n",
              "    </tr>\n",
              "    <tr>\n",
              "      <th>6</th>\n",
              "      <td>한 권으로 끝내는 파이썬 인공지능 입문 + 실전 종합편 (파이썬+넘파이+텐서플로우로...</td>\n",
              "      <td>서민우</td>\n",
              "      <td>앤써북</td>\n",
              "      <td>2021-09-25</td>\n",
              "      <td>118555386X 9791185553863</td>\n",
              "      <td>Python</td>\n",
              "    </tr>\n",
              "    <tr>\n",
              "      <th>...</th>\n",
              "      <td>...</td>\n",
              "      <td>...</td>\n",
              "      <td>...</td>\n",
              "      <td>...</td>\n",
              "      <td>...</td>\n",
              "      <td>...</td>\n",
              "    </tr>\n",
              "    <tr>\n",
              "      <th>198</th>\n",
              "      <td>빅 데이터 분석을 위한 R 프로그래밍</td>\n",
              "      <td>김진성</td>\n",
              "      <td>가메</td>\n",
              "      <td>2020-06-16</td>\n",
              "      <td>8980783078 9788980783076</td>\n",
              "      <td>R</td>\n",
              "    </tr>\n",
              "    <tr>\n",
              "      <th>199</th>\n",
              "      <td>빅데이터 분석 R프로그래밍으로 시작하기</td>\n",
              "      <td>김민지|임호진</td>\n",
              "      <td>성안당</td>\n",
              "      <td>2021-01-22</td>\n",
              "      <td>8931556780 9788931556780</td>\n",
              "      <td>R</td>\n",
              "    </tr>\n",
              "    <tr>\n",
              "      <th>203</th>\n",
              "      <td>안드로이드 프로그래밍 (Android Studio를 활용한,Android 11.0 ...</td>\n",
              "      <td>우재남|박길식</td>\n",
              "      <td>한빛아카데미</td>\n",
              "      <td>2021-01-07</td>\n",
              "      <td>1156645247 9791156645245</td>\n",
              "      <td>R</td>\n",
              "    </tr>\n",
              "    <tr>\n",
              "      <th>204</th>\n",
              "      <td>R언어 프로그래밍 (컴퓨터 비정공자를 위한 빅데이터 활용의 시작)</td>\n",
              "      <td>박성호|문경희|양자영|이윤정|조미숙</td>\n",
              "      <td>부산대학교출판문화원</td>\n",
              "      <td>2021-08-31</td>\n",
              "      <td>8973167197 9788973167197</td>\n",
              "      <td>R</td>\n",
              "    </tr>\n",
              "    <tr>\n",
              "      <th>207</th>\n",
              "      <td>R 통계 프로그래밍 교과서 (R 프로그래밍 시작을 위한 미국 베스트셀러 교과서)</td>\n",
              "      <td>W. John Braun|Duncan J. Murdoc</td>\n",
              "      <td>황소걸음아카데미</td>\n",
              "      <td>2020-12-15</td>\n",
              "      <td>1186821507 9791186821503</td>\n",
              "      <td>R</td>\n",
              "    </tr>\n",
              "  </tbody>\n",
              "</table>\n",
              "<p>119 rows × 6 columns</p>\n",
              "</div>"
            ],
            "text/plain": [
              "                                                    제목  \\\n",
              "0    이것이 취업을 위한 코딩 테스트다 with 파이썬 (취업과 이직을 결정하는 알고리즘...   \n",
              "3          파이썬 알고리즘 인터뷰 (95가지 알고리즘 문제 풀이로 완성하는 코딩 테스트)   \n",
              "4      파이썬 증권 데이터 분석 (파이썬 입문, 웹 스크레이핑, 트레이딩 전략, 자동 매매)   \n",
              "5    파이썬 머신러닝 완벽 가이드 (다양한 캐글 예제와 함께 기초 알고리즘부터 최신 기법...   \n",
              "6    한 권으로 끝내는 파이썬 인공지능 입문 + 실전 종합편 (파이썬+넘파이+텐서플로우로...   \n",
              "..                                                 ...   \n",
              "198                               빅 데이터 분석을 위한 R 프로그래밍   \n",
              "199                              빅데이터 분석 R프로그래밍으로 시작하기   \n",
              "203  안드로이드 프로그래밍 (Android Studio를 활용한,Android 11.0 ...   \n",
              "204               R언어 프로그래밍 (컴퓨터 비정공자를 위한 빅데이터 활용의 시작)   \n",
              "207       R 통계 프로그래밍 교과서 (R 프로그래밍 시작을 위한 미국 베스트셀러 교과서)   \n",
              "\n",
              "                                 저자         출판사        출판일  \\\n",
              "0                               나동빈       한빛미디어 2020-08-05   \n",
              "3                               박상길          책만 2020-07-15   \n",
              "4                               김황후       한빛미디어 2020-07-01   \n",
              "5                               권철민        위키북스 2020-02-07   \n",
              "6                               서민우         앤써북 2021-09-25   \n",
              "..                              ...         ...        ...   \n",
              "198                             김진성          가메 2020-06-16   \n",
              "199                         김민지|임호진         성안당 2021-01-22   \n",
              "203                         우재남|박길식      한빛아카데미 2021-01-07   \n",
              "204             박성호|문경희|양자영|이윤정|조미숙  부산대학교출판문화원 2021-08-31   \n",
              "207  W. John Braun|Duncan J. Murdoc    황소걸음아카데미 2020-12-15   \n",
              "\n",
              "                         ISBN      언어  \n",
              "0    1162243074 9791162243077  Python  \n",
              "3    1189909170 9791189909178  Python  \n",
              "4    1162243201 9791162243206  Python  \n",
              "5    1158391927 9791158391928  Python  \n",
              "6    118555386X 9791185553863  Python  \n",
              "..                        ...     ...  \n",
              "198  8980783078 9788980783076       R  \n",
              "199  8931556780 9788931556780       R  \n",
              "203  1156645247 9791156645245       R  \n",
              "204  8973167197 9788973167197       R  \n",
              "207  1186821507 9791186821503       R  \n",
              "\n",
              "[119 rows x 6 columns]"
            ]
          },
          "execution_count": 35,
          "metadata": {},
          "output_type": "execute_result"
        }
      ],
      "source": [
        "df[df['출판일'] >= '2020-01-01']"
      ]
    },
    {
      "cell_type": "markdown",
      "id": "5cd9a16e",
      "metadata": {
        "id": "5cd9a16e"
      },
      "source": [
        "#### 2020-2021년 프로그래밍 언어별 출판물 데이터 시각화"
      ]
    },
    {
      "cell_type": "code",
      "execution_count": null,
      "id": "732b24ab",
      "metadata": {
        "scrolled": true,
        "id": "732b24ab",
        "outputId": "c79295a1-b0d3-404f-e1b2-01b37e97b5a4"
      },
      "outputs": [
        {
          "data": {
            "image/png": "[encoded data removed]",
            "text/plain": [
              "<Figure size 1080x432 with 1 Axes>"
            ]
          },
          "metadata": {
            "needs_background": "light"
          },
          "output_type": "display_data"
        }
      ],
      "source": [
        "plt.figure(figsize=(15,6))\n",
        "sns.countplot(\n",
        "    x=df[df['출판일'] >= '2020-01-01']['언어'], \n",
        "    data=df,\n",
        "    palette=\"RdYlGn\",\n",
        "    order=df[df['출판일'] >= '2020-01-01']['언어'].value_counts().index\n",
        ")\n",
        "plt.show()"
      ]
    },
    {
      "cell_type": "code",
      "execution_count": null,
      "id": "f8cc79e7",
      "metadata": {
        "id": "f8cc79e7",
        "outputId": "14a6b76e-a1bf-441d-946c-547b65889afe"
      },
      "outputs": [
        {
          "data": {
            "text/html": [
              "<div>\n",
              "<style scoped>\n",
              "    .dataframe tbody tr th:only-of-type {\n",
              "        vertical-align: middle;\n",
              "    }\n",
              "\n",
              "    .dataframe tbody tr th {\n",
              "        vertical-align: top;\n",
              "    }\n",
              "\n",
              "    .dataframe thead th {\n",
              "        text-align: right;\n",
              "    }\n",
              "</style>\n",
              "<table border=\"1\" class=\"dataframe\">\n",
              "  <thead>\n",
              "    <tr style=\"text-align: right;\">\n",
              "      <th></th>\n",
              "      <th>제목</th>\n",
              "      <th>저자</th>\n",
              "      <th>출판사</th>\n",
              "      <th>출판일</th>\n",
              "      <th>ISBN</th>\n",
              "      <th>언어</th>\n",
              "    </tr>\n",
              "  </thead>\n",
              "  <tbody>\n",
              "    <tr>\n",
              "      <th>1</th>\n",
              "      <td>Do it! 점프 투 파이썬</td>\n",
              "      <td>박응용</td>\n",
              "      <td>이지스퍼블리싱</td>\n",
              "      <td>2019-06-20</td>\n",
              "      <td>1163030910 9791163030911</td>\n",
              "      <td>Python</td>\n",
              "    </tr>\n",
              "    <tr>\n",
              "      <th>2</th>\n",
              "      <td>혼자 공부하는 파이썬 (파이썬 최신 버전 반영)</td>\n",
              "      <td>윤인성</td>\n",
              "      <td>한빛미디어</td>\n",
              "      <td>2019-06-10</td>\n",
              "      <td>1162241888 9791162241882</td>\n",
              "      <td>Python</td>\n",
              "    </tr>\n",
              "    <tr>\n",
              "      <th>10</th>\n",
              "      <td>모두의 파이썬 (20일 만에 배우는 프로그래밍 기초)</td>\n",
              "      <td>이승찬</td>\n",
              "      <td>길벗</td>\n",
              "      <td>2018-10-09</td>\n",
              "      <td>1160505853 9791160505856</td>\n",
              "      <td>Python</td>\n",
              "    </tr>\n",
              "    <tr>\n",
              "      <th>17</th>\n",
              "      <td>모두의 데이터 분석 with 파이썬 (실생활 예제로 시작하는 데이터 분석 첫걸음)</td>\n",
              "      <td>송석리|이현아</td>\n",
              "      <td>길벗</td>\n",
              "      <td>2019-04-25</td>\n",
              "      <td>1160507813 9791160507812</td>\n",
              "      <td>Python</td>\n",
              "    </tr>\n",
              "    <tr>\n",
              "      <th>39</th>\n",
              "      <td>쉽게 풀어쓴 C언어 Express (Visual Studio 2017)</td>\n",
              "      <td>천인국</td>\n",
              "      <td>생능출판사</td>\n",
              "      <td>2018-08-20</td>\n",
              "      <td>8970509577 9788970509570</td>\n",
              "      <td>C</td>\n",
              "    </tr>\n",
              "    <tr>\n",
              "      <th>42</th>\n",
              "      <td>Do it! C언어 입문</td>\n",
              "      <td>김성엽</td>\n",
              "      <td>이지스퍼블리싱</td>\n",
              "      <td>2017-01-10</td>\n",
              "      <td>1187370703 9791187370703</td>\n",
              "      <td>C</td>\n",
              "    </tr>\n",
              "    <tr>\n",
              "      <th>43</th>\n",
              "      <td>모두의 C언어 (스스로 생각하면서 배우는 C프로그래밍 기초)</td>\n",
              "      <td>이형우</td>\n",
              "      <td>길벗</td>\n",
              "      <td>2019-08-02</td>\n",
              "      <td>1160508550 9791160508550</td>\n",
              "      <td>C</td>\n",
              "    </tr>\n",
              "    <tr>\n",
              "      <th>44</th>\n",
              "      <td>알쏭달쏭 C언어 180제 (텍스트 출력부터 파일 처리까지 하나씩 만들어보는 C언어 ...</td>\n",
              "      <td>시바타 보요|유리 가오루</td>\n",
              "      <td>한빛미디어</td>\n",
              "      <td>2019-12-01</td>\n",
              "      <td>1162242434 9791162242438</td>\n",
              "      <td>C</td>\n",
              "    </tr>\n",
              "    <tr>\n",
              "      <th>48</th>\n",
              "      <td>혼자 공부하는 C 언어</td>\n",
              "      <td>서현우</td>\n",
              "      <td>한빛미디어</td>\n",
              "      <td>2019-06-10</td>\n",
              "      <td>1162241861 9791162241868</td>\n",
              "      <td>C</td>\n",
              "    </tr>\n",
              "    <tr>\n",
              "      <th>52</th>\n",
              "      <td>C 언어 for Beginner (쉽게 배워 제대로 만드는 C 프로그램)</td>\n",
              "      <td>우재남</td>\n",
              "      <td>한빛아카데미</td>\n",
              "      <td>2018-06-30</td>\n",
              "      <td>1156643953 9791156643951</td>\n",
              "      <td>C</td>\n",
              "    </tr>\n",
              "    <tr>\n",
              "      <th>53</th>\n",
              "      <td>코드업과 함께 하는 C언어 &amp; 문제 해결</td>\n",
              "      <td>배준호|정웅열|정종광|전현석</td>\n",
              "      <td>삼양미디어</td>\n",
              "      <td>2017-06-05</td>\n",
              "      <td>8958973277 9788958973270</td>\n",
              "      <td>C</td>\n",
              "    </tr>\n",
              "    <tr>\n",
              "      <th>59</th>\n",
              "      <td>명품 JAVA Programming (귀로 배우는 자바가 아니라, 눈으로 몸으로 배...</td>\n",
              "      <td>황기태|김효수</td>\n",
              "      <td>생능출판사</td>\n",
              "      <td>2018-06-01</td>\n",
              "      <td>897050947X 9788970509471</td>\n",
              "      <td>Java</td>\n",
              "    </tr>\n",
              "    <tr>\n",
              "      <th>60</th>\n",
              "      <td>Java의 정석 기초편</td>\n",
              "      <td>남궁성</td>\n",
              "      <td>도우출판</td>\n",
              "      <td>2019-12-30</td>\n",
              "      <td>8994492046 9788994492049</td>\n",
              "      <td>Java</td>\n",
              "    </tr>\n",
              "    <tr>\n",
              "      <th>62</th>\n",
              "      <td>이펙티브 자바 (Effective Java)</td>\n",
              "      <td>조슈아 블로크</td>\n",
              "      <td>인사이트</td>\n",
              "      <td>2018-11-01</td>\n",
              "      <td>8966262287 9788966262281</td>\n",
              "      <td>Java</td>\n",
              "    </tr>\n",
              "    <tr>\n",
              "      <th>64</th>\n",
              "      <td>명품 HTML5 + CSS3 + Javascript 웹 프로그래밍</td>\n",
              "      <td>황기태</td>\n",
              "      <td>생능출판사</td>\n",
              "      <td>2017-01-16</td>\n",
              "      <td>8970508880 9788970508887</td>\n",
              "      <td>Java</td>\n",
              "    </tr>\n",
              "    <tr>\n",
              "      <th>66</th>\n",
              "      <td>윤성우의 열혈 Java 프로그래밍</td>\n",
              "      <td>윤성우</td>\n",
              "      <td>오렌지미디어</td>\n",
              "      <td>2017-07-05</td>\n",
              "      <td>8996094072 9788996094074</td>\n",
              "      <td>Java</td>\n",
              "    </tr>\n",
              "    <tr>\n",
              "      <th>70</th>\n",
              "      <td>Power JAVA Compact</td>\n",
              "      <td>천인국</td>\n",
              "      <td>인피니티북스</td>\n",
              "      <td>2018-02-27</td>\n",
              "      <td>1185578358 9791185578354</td>\n",
              "      <td>Java</td>\n",
              "    </tr>\n",
              "    <tr>\n",
              "      <th>77</th>\n",
              "      <td>초보자를 위한 JavaScript 200제</td>\n",
              "      <td>고재도|노지연</td>\n",
              "      <td>정보문화사</td>\n",
              "      <td>2019-03-10</td>\n",
              "      <td>8956748241 9788956748245</td>\n",
              "      <td>Java</td>\n",
              "    </tr>\n",
              "    <tr>\n",
              "      <th>79</th>\n",
              "      <td>명품 C++ Programming</td>\n",
              "      <td>황기태</td>\n",
              "      <td>생능출판사</td>\n",
              "      <td>2018-03-05</td>\n",
              "      <td>8970509437 9788970509433</td>\n",
              "      <td>C++</td>\n",
              "    </tr>\n",
              "    <tr>\n",
              "      <th>84</th>\n",
              "      <td>전문가를 위한 C++ (C++17, 병렬 알고리즘, 파일시스템, 제네릭 람다)</td>\n",
              "      <td>마크 그레고리</td>\n",
              "      <td>한빛미디어</td>\n",
              "      <td>2019-08-20</td>\n",
              "      <td>1162242086 9791162242087</td>\n",
              "      <td>C++</td>\n",
              "    </tr>\n",
              "    <tr>\n",
              "      <th>87</th>\n",
              "      <td>이득우의 언리얼 C++ 게임 개발의 정석</td>\n",
              "      <td>이득우</td>\n",
              "      <td>에이콘출판</td>\n",
              "      <td>2018-10-26</td>\n",
              "      <td>116175220X 9791161752204</td>\n",
              "      <td>C++</td>\n",
              "    </tr>\n",
              "    <tr>\n",
              "      <th>90</th>\n",
              "      <td>어서와 C++는 처음이지!</td>\n",
              "      <td>천인국</td>\n",
              "      <td>인피니티북스</td>\n",
              "      <td>2018-01-15</td>\n",
              "      <td>118557834X 9791185578347</td>\n",
              "      <td>C++</td>\n",
              "    </tr>\n",
              "    <tr>\n",
              "      <th>92</th>\n",
              "      <td>모던 C++ 디자인 패턴 (객체지향 소프트웨어 디자인을 재사용하는 방법)</td>\n",
              "      <td>드미트리 네스터룩</td>\n",
              "      <td>길벗</td>\n",
              "      <td>2019-04-30</td>\n",
              "      <td>1160507678 9791160507676</td>\n",
              "      <td>C++</td>\n",
              "    </tr>\n",
              "    <tr>\n",
              "      <th>95</th>\n",
              "      <td>C++ 최적화 (최고 성능을 구현하는 10가지 검증된 기법)</td>\n",
              "      <td>커트 건서로스</td>\n",
              "      <td>한빛미디어</td>\n",
              "      <td>2019-07-05</td>\n",
              "      <td>1162241985 9791162241981</td>\n",
              "      <td>C++</td>\n",
              "    </tr>\n",
              "    <tr>\n",
              "      <th>96</th>\n",
              "      <td>C++프로그래밍 (워크북 포함)</td>\n",
              "      <td>전중남|이병래</td>\n",
              "      <td>한국방송통신대학교출판문화원</td>\n",
              "      <td>2019-07-25</td>\n",
              "      <td>8920033811 9788920033810</td>\n",
              "      <td>C++</td>\n",
              "    </tr>\n",
              "    <tr>\n",
              "      <th>108</th>\n",
              "      <td>시작하세요! C# 7.3 프로그래밍 (기본 문법부터 실전 예제까지)</td>\n",
              "      <td>정성태</td>\n",
              "      <td>위키북스</td>\n",
              "      <td>2019-05-17</td>\n",
              "      <td>1158391536 9791158391539</td>\n",
              "      <td>C#</td>\n",
              "    </tr>\n",
              "    <tr>\n",
              "      <th>109</th>\n",
              "      <td>Effective C# (강력한 C# 코드를 구현하는 50가지 전략과 기법,이펙티브)</td>\n",
              "      <td>빌 와그너</td>\n",
              "      <td>한빛미디어</td>\n",
              "      <td>2017-11-06</td>\n",
              "      <td>1162240032 9791162240038</td>\n",
              "      <td>C#</td>\n",
              "    </tr>\n",
              "    <tr>\n",
              "      <th>110</th>\n",
              "      <td>모어 이펙티브 C# (더 강력한 C# 코드를 구현하는 50가지 추가 전략과 기법)</td>\n",
              "      <td>빌 와그너</td>\n",
              "      <td>한빛미디어</td>\n",
              "      <td>2019-05-06</td>\n",
              "      <td>116224089X 9791162240892</td>\n",
              "      <td>C#</td>\n",
              "    </tr>\n",
              "    <tr>\n",
              "      <th>111</th>\n",
              "      <td>C# 프로그래밍 입문</td>\n",
              "      <td>오세만|이양선|김정숙|이창환|손윤식</td>\n",
              "      <td>생능출판사</td>\n",
              "      <td>2017-03-14</td>\n",
              "      <td>8970509011 9788970509013</td>\n",
              "      <td>C#</td>\n",
              "    </tr>\n",
              "    <tr>\n",
              "      <th>114</th>\n",
              "      <td>C# 200제 (초보자를 위한)</td>\n",
              "      <td>강병익</td>\n",
              "      <td>정보문화사</td>\n",
              "      <td>2019-09-20</td>\n",
              "      <td>895674839X 9788956748399</td>\n",
              "      <td>C#</td>\n",
              "    </tr>\n",
              "    <tr>\n",
              "      <th>121</th>\n",
              "      <td>Visual Basic 15.x 프로그래밍 실전 프로젝트</td>\n",
              "      <td>조호묵</td>\n",
              "      <td>가메</td>\n",
              "      <td>2019-01-07</td>\n",
              "      <td>8980783027 9788980783021</td>\n",
              "      <td>Visual Basic</td>\n",
              "    </tr>\n",
              "    <tr>\n",
              "      <th>122</th>\n",
              "      <td>Visual Basic이 보이는 그림책 (국내 최초 그림으로 배우는 Visual B...</td>\n",
              "      <td>ANK CO.|Ltd.</td>\n",
              "      <td>성안당</td>\n",
              "      <td>2017-02-24</td>\n",
              "      <td>8931554702 9788931554700</td>\n",
              "      <td>Visual Basic</td>\n",
              "    </tr>\n",
              "    <tr>\n",
              "      <th>142</th>\n",
              "      <td>생활코딩! HTML+CSS+자바스크립트</td>\n",
              "      <td>이고잉</td>\n",
              "      <td>위키북스</td>\n",
              "      <td>2019-01-15</td>\n",
              "      <td>1158391331 9791158391331</td>\n",
              "      <td>JavaScript</td>\n",
              "    </tr>\n",
              "    <tr>\n",
              "      <th>143</th>\n",
              "      <td>Do it! 자바스크립트 + 제이쿼리 입문 (155개 예제로 기본 잡고, 반응형 웹...</td>\n",
              "      <td>정인용</td>\n",
              "      <td>이지스퍼블리싱</td>\n",
              "      <td>2018-04-06</td>\n",
              "      <td>1163030031 9791163030034</td>\n",
              "      <td>JavaScript</td>\n",
              "    </tr>\n",
              "    <tr>\n",
              "      <th>144</th>\n",
              "      <td>코어 자바스크립트 (핵심 개념과 동작 원리로 이해하는 자바스크립트 프로그래밍)</td>\n",
              "      <td>정재남</td>\n",
              "      <td>위키북스</td>\n",
              "      <td>2019-09-10</td>\n",
              "      <td>1158391722 9791158391720</td>\n",
              "      <td>JavaScript</td>\n",
              "    </tr>\n",
              "    <tr>\n",
              "      <th>147</th>\n",
              "      <td>Do it! 웹 프로그래밍을 위한 자바스크립트 기본 편</td>\n",
              "      <td>고경희</td>\n",
              "      <td>이지스퍼블리싱</td>\n",
              "      <td>2019-03-26</td>\n",
              "      <td>1163030643 9791163030645</td>\n",
              "      <td>JavaScript</td>\n",
              "    </tr>\n",
              "    <tr>\n",
              "      <th>155</th>\n",
              "      <td>모던 자바스크립트 입문 (프런트엔드부터 백엔드까지, 핵심은 자바스크립트다!)</td>\n",
              "      <td>이소 히로시</td>\n",
              "      <td>길벗</td>\n",
              "      <td>2018-03-30</td>\n",
              "      <td>1160504431 9791160504439</td>\n",
              "      <td>JavaScript</td>\n",
              "    </tr>\n",
              "    <tr>\n",
              "      <th>157</th>\n",
              "      <td>자바스크립트 코딩의 기술 (똑똑하게 코딩하는 법)</td>\n",
              "      <td>조 모건</td>\n",
              "      <td>길벗</td>\n",
              "      <td>2019-12-27</td>\n",
              "      <td>1165210207 9791165210205</td>\n",
              "      <td>JavaScript</td>\n",
              "    </tr>\n",
              "    <tr>\n",
              "      <th>167</th>\n",
              "      <td>모두의 SQL (누구나 쉽게 배우는 데이터 분석 기초)</td>\n",
              "      <td>김도연</td>\n",
              "      <td>길벗</td>\n",
              "      <td>2018-09-21</td>\n",
              "      <td>1160505772 9791160505771</td>\n",
              "      <td>SQL</td>\n",
              "    </tr>\n",
              "    <tr>\n",
              "      <th>169</th>\n",
              "      <td>친절한 SQL 튜닝 (개발자를 위한 SQL 튜닝 입문서)</td>\n",
              "      <td>조시형</td>\n",
              "      <td>디비안(DBian)</td>\n",
              "      <td>2018-06-01</td>\n",
              "      <td>1196395705 9791196395704</td>\n",
              "      <td>SQL</td>\n",
              "    </tr>\n",
              "    <tr>\n",
              "      <th>176</th>\n",
              "      <td>데이터 분석을 위한 SQL 레시피</td>\n",
              "      <td>가사키 나가토|다미야 나오토</td>\n",
              "      <td>한빛미디어</td>\n",
              "      <td>2018-04-01</td>\n",
              "      <td>1162240601 9791162240601</td>\n",
              "      <td>SQL</td>\n",
              "    </tr>\n",
              "    <tr>\n",
              "      <th>177</th>\n",
              "      <td>생활코딩! PHP+MySQL</td>\n",
              "      <td>이고잉</td>\n",
              "      <td>위키북스</td>\n",
              "      <td>2019-01-15</td>\n",
              "      <td>115839134X 9791158391348</td>\n",
              "      <td>SQL</td>\n",
              "    </tr>\n",
              "    <tr>\n",
              "      <th>180</th>\n",
              "      <td>PHP 프로그래밍 입문 (PHP Web Programming)</td>\n",
              "      <td>황재호</td>\n",
              "      <td>한빛아카데미</td>\n",
              "      <td>2019-05-20</td>\n",
              "      <td>1156644445 9791156644446</td>\n",
              "      <td>PHP</td>\n",
              "    </tr>\n",
              "    <tr>\n",
              "      <th>195</th>\n",
              "      <td>PHP &amp; MySQL 닌자 비법서 (견고한 웹 애플리케이션을 만들며 초보에서 고수로...</td>\n",
              "      <td>톰 버틀러|케빈 양크</td>\n",
              "      <td>한빛미디어</td>\n",
              "      <td>2019-02-01</td>\n",
              "      <td>1162241454 9791162241455</td>\n",
              "      <td>PHP</td>\n",
              "    </tr>\n",
              "    <tr>\n",
              "      <th>200</th>\n",
              "      <td>R 프로그래밍</td>\n",
              "      <td>허명회</td>\n",
              "      <td>자유아카데미</td>\n",
              "      <td>2017-01-20</td>\n",
              "      <td>1158081227 9791158081225</td>\n",
              "      <td>R</td>\n",
              "    </tr>\n",
              "    <tr>\n",
              "      <th>206</th>\n",
              "      <td>효율적인 R 프로그래밍 (보다 현명한 프로그래밍을 위한 실용적인 가이드)</td>\n",
              "      <td>로빈 러브 레이스|콜린 길렙시</td>\n",
              "      <td>느린생각</td>\n",
              "      <td>2018-06-05</td>\n",
              "      <td>1187139130 9791187139133</td>\n",
              "      <td>R</td>\n",
              "    </tr>\n",
              "    <tr>\n",
              "      <th>208</th>\n",
              "      <td>사회 과학 연구를 위한 R 프로그래밍</td>\n",
              "      <td>박인용|김건섭</td>\n",
              "      <td>BOOKK(부크크)</td>\n",
              "      <td>2019-12-01</td>\n",
              "      <td>1127289179 9791127289171</td>\n",
              "      <td>R</td>\n",
              "    </tr>\n",
              "    <tr>\n",
              "      <th>209</th>\n",
              "      <td>수치분석과 시뮬레이션 R프로그래밍</td>\n",
              "      <td>장상수</td>\n",
              "      <td>느린생각</td>\n",
              "      <td>2019-11-20</td>\n",
              "      <td>1187139254 9791187139256</td>\n",
              "      <td>R</td>\n",
              "    </tr>\n",
              "    <tr>\n",
              "      <th>210</th>\n",
              "      <td>Excel 사용자를 위한 R프로그래밍</td>\n",
              "      <td>콘래드 칼버그</td>\n",
              "      <td>혜지원</td>\n",
              "      <td>2018-12-26</td>\n",
              "      <td>8983799765 9788983799760</td>\n",
              "      <td>R</td>\n",
              "    </tr>\n",
              "    <tr>\n",
              "      <th>212</th>\n",
              "      <td>빅데이터 통계 분석을 위한 R 프로그래밍 레퍼런스 북</td>\n",
              "      <td>이시다 모토히로</td>\n",
              "      <td>교학사</td>\n",
              "      <td>2018-01-20</td>\n",
              "      <td>8909202882 9788909202886</td>\n",
              "      <td>R</td>\n",
              "    </tr>\n",
              "    <tr>\n",
              "      <th>214</th>\n",
              "      <td>R 프로그래밍 및 그래픽스 실습</td>\n",
              "      <td>손영숙|전성현</td>\n",
              "      <td>자유아카데미</td>\n",
              "      <td>2018-08-31</td>\n",
              "      <td>1158082002 9791158082000</td>\n",
              "      <td>R</td>\n",
              "    </tr>\n",
              "    <tr>\n",
              "      <th>216</th>\n",
              "      <td>R을 이용한 빅데이터 분석 및 활용 Part 1. R 프로그래밍과 데이터 시각화</td>\n",
              "      <td>허진경</td>\n",
              "      <td>퍼플</td>\n",
              "      <td>2017-10-24</td>\n",
              "      <td>0000291986 1400000291986</td>\n",
              "      <td>R</td>\n",
              "    </tr>\n",
              "  </tbody>\n",
              "</table>\n",
              "</div>"
            ],
            "text/plain": [
              "                                                    제목                   저자  \\\n",
              "1                                      Do it! 점프 투 파이썬                  박응용   \n",
              "2                           혼자 공부하는 파이썬 (파이썬 최신 버전 반영)                  윤인성   \n",
              "10                       모두의 파이썬 (20일 만에 배우는 프로그래밍 기초)                  이승찬   \n",
              "17       모두의 데이터 분석 with 파이썬 (실생활 예제로 시작하는 데이터 분석 첫걸음)              송석리|이현아   \n",
              "39             쉽게 풀어쓴 C언어 Express (Visual Studio 2017)                  천인국   \n",
              "42                                       Do it! C언어 입문                  김성엽   \n",
              "43                   모두의 C언어 (스스로 생각하면서 배우는 C프로그래밍 기초)                  이형우   \n",
              "44   알쏭달쏭 C언어 180제 (텍스트 출력부터 파일 처리까지 하나씩 만들어보는 C언어 ...        시바타 보요|유리 가오루   \n",
              "48                                        혼자 공부하는 C 언어                  서현우   \n",
              "52            C 언어 for Beginner (쉽게 배워 제대로 만드는 C 프로그램)                  우재남   \n",
              "53                              코드업과 함께 하는 C언어 & 문제 해결      배준호|정웅열|정종광|전현석   \n",
              "59   명품 JAVA Programming (귀로 배우는 자바가 아니라, 눈으로 몸으로 배...              황기태|김효수   \n",
              "60                                        Java의 정석 기초편                  남궁성   \n",
              "62                            이펙티브 자바 (Effective Java)              조슈아 블로크   \n",
              "64                명품 HTML5 + CSS3 + Javascript 웹 프로그래밍                  황기태   \n",
              "66                                  윤성우의 열혈 Java 프로그래밍                  윤성우   \n",
              "70                                  Power JAVA Compact                  천인국   \n",
              "77                             초보자를 위한 JavaScript 200제              고재도|노지연   \n",
              "79                                  명품 C++ Programming                  황기태   \n",
              "84         전문가를 위한 C++ (C++17, 병렬 알고리즘, 파일시스템, 제네릭 람다)              마크 그레고리   \n",
              "87                              이득우의 언리얼 C++ 게임 개발의 정석                  이득우   \n",
              "90                                      어서와 C++는 처음이지!                  천인국   \n",
              "92            모던 C++ 디자인 패턴 (객체지향 소프트웨어 디자인을 재사용하는 방법)            드미트리 네스터룩   \n",
              "95                   C++ 최적화 (최고 성능을 구현하는 10가지 검증된 기법)              커트 건서로스   \n",
              "96                                   C++프로그래밍 (워크북 포함)              전중남|이병래   \n",
              "108              시작하세요! C# 7.3 프로그래밍 (기본 문법부터 실전 예제까지)                  정성태   \n",
              "109    Effective C# (강력한 C# 코드를 구현하는 50가지 전략과 기법,이펙티브)                빌 와그너   \n",
              "110      모어 이펙티브 C# (더 강력한 C# 코드를 구현하는 50가지 추가 전략과 기법)                빌 와그너   \n",
              "111                                        C# 프로그래밍 입문  오세만|이양선|김정숙|이창환|손윤식   \n",
              "114                                  C# 200제 (초보자를 위한)                  강병익   \n",
              "121                    Visual Basic 15.x 프로그래밍 실전 프로젝트                  조호묵   \n",
              "122  Visual Basic이 보이는 그림책 (국내 최초 그림으로 배우는 Visual B...         ANK CO.|Ltd.   \n",
              "142                              생활코딩! HTML+CSS+자바스크립트                  이고잉   \n",
              "143  Do it! 자바스크립트 + 제이쿼리 입문 (155개 예제로 기본 잡고, 반응형 웹...                  정인용   \n",
              "144        코어 자바스크립트 (핵심 개념과 동작 원리로 이해하는 자바스크립트 프로그래밍)                  정재남   \n",
              "147                     Do it! 웹 프로그래밍을 위한 자바스크립트 기본 편                  고경희   \n",
              "155         모던 자바스크립트 입문 (프런트엔드부터 백엔드까지, 핵심은 자바스크립트다!)               이소 히로시   \n",
              "157                        자바스크립트 코딩의 기술 (똑똑하게 코딩하는 법)                 조 모건   \n",
              "167                     모두의 SQL (누구나 쉽게 배우는 데이터 분석 기초)                  김도연   \n",
              "169                    친절한 SQL 튜닝 (개발자를 위한 SQL 튜닝 입문서)                  조시형   \n",
              "176                                 데이터 분석을 위한 SQL 레시피      가사키 나가토|다미야 나오토   \n",
              "177                                    생활코딩! PHP+MySQL                  이고잉   \n",
              "180                 PHP 프로그래밍 입문 (PHP Web Programming)                  황재호   \n",
              "195  PHP & MySQL 닌자 비법서 (견고한 웹 애플리케이션을 만들며 초보에서 고수로...          톰 버틀러|케빈 양크   \n",
              "200                                            R 프로그래밍                  허명회   \n",
              "206           효율적인 R 프로그래밍 (보다 현명한 프로그래밍을 위한 실용적인 가이드)     로빈 러브 레이스|콜린 길렙시   \n",
              "208                               사회 과학 연구를 위한 R 프로그래밍              박인용|김건섭   \n",
              "209                                 수치분석과 시뮬레이션 R프로그래밍                  장상수   \n",
              "210                               Excel 사용자를 위한 R프로그래밍              콘래드 칼버그   \n",
              "212                      빅데이터 통계 분석을 위한 R 프로그래밍 레퍼런스 북             이시다 모토히로   \n",
              "214                                  R 프로그래밍 및 그래픽스 실습              손영숙|전성현   \n",
              "216       R을 이용한 빅데이터 분석 및 활용 Part 1. R 프로그래밍과 데이터 시각화                  허진경   \n",
              "\n",
              "                출판사        출판일                      ISBN            언어  \n",
              "1           이지스퍼블리싱 2019-06-20  1163030910 9791163030911        Python  \n",
              "2             한빛미디어 2019-06-10  1162241888 9791162241882        Python  \n",
              "10               길벗 2018-10-09  1160505853 9791160505856        Python  \n",
              "17               길벗 2019-04-25  1160507813 9791160507812        Python  \n",
              "39            생능출판사 2018-08-20  8970509577 9788970509570             C  \n",
              "42          이지스퍼블리싱 2017-01-10  1187370703 9791187370703             C  \n",
              "43               길벗 2019-08-02  1160508550 9791160508550             C  \n",
              "44            한빛미디어 2019-12-01  1162242434 9791162242438             C  \n",
              "48            한빛미디어 2019-06-10  1162241861 9791162241868             C  \n",
              "52           한빛아카데미 2018-06-30  1156643953 9791156643951             C  \n",
              "53            삼양미디어 2017-06-05  8958973277 9788958973270             C  \n",
              "59            생능출판사 2018-06-01  897050947X 9788970509471          Java  \n",
              "60             도우출판 2019-12-30  8994492046 9788994492049          Java  \n",
              "62             인사이트 2018-11-01  8966262287 9788966262281          Java  \n",
              "64            생능출판사 2017-01-16  8970508880 9788970508887          Java  \n",
              "66           오렌지미디어 2017-07-05  8996094072 9788996094074          Java  \n",
              "70           인피니티북스 2018-02-27  1185578358 9791185578354          Java  \n",
              "77            정보문화사 2019-03-10  8956748241 9788956748245          Java  \n",
              "79            생능출판사 2018-03-05  8970509437 9788970509433           C++  \n",
              "84            한빛미디어 2019-08-20  1162242086 9791162242087           C++  \n",
              "87            에이콘출판 2018-10-26  116175220X 9791161752204           C++  \n",
              "90           인피니티북스 2018-01-15  118557834X 9791185578347           C++  \n",
              "92               길벗 2019-04-30  1160507678 9791160507676           C++  \n",
              "95            한빛미디어 2019-07-05  1162241985 9791162241981           C++  \n",
              "96   한국방송통신대학교출판문화원 2019-07-25  8920033811 9788920033810           C++  \n",
              "108            위키북스 2019-05-17  1158391536 9791158391539            C#  \n",
              "109           한빛미디어 2017-11-06  1162240032 9791162240038            C#  \n",
              "110           한빛미디어 2019-05-06  116224089X 9791162240892            C#  \n",
              "111           생능출판사 2017-03-14  8970509011 9788970509013            C#  \n",
              "114           정보문화사 2019-09-20  895674839X 9788956748399            C#  \n",
              "121              가메 2019-01-07  8980783027 9788980783021  Visual Basic  \n",
              "122             성안당 2017-02-24  8931554702 9788931554700  Visual Basic  \n",
              "142            위키북스 2019-01-15  1158391331 9791158391331    JavaScript  \n",
              "143         이지스퍼블리싱 2018-04-06  1163030031 9791163030034    JavaScript  \n",
              "144            위키북스 2019-09-10  1158391722 9791158391720    JavaScript  \n",
              "147         이지스퍼블리싱 2019-03-26  1163030643 9791163030645    JavaScript  \n",
              "155              길벗 2018-03-30  1160504431 9791160504439    JavaScript  \n",
              "157              길벗 2019-12-27  1165210207 9791165210205    JavaScript  \n",
              "167              길벗 2018-09-21  1160505772 9791160505771           SQL  \n",
              "169      디비안(DBian) 2018-06-01  1196395705 9791196395704           SQL  \n",
              "176           한빛미디어 2018-04-01  1162240601 9791162240601           SQL  \n",
              "177            위키북스 2019-01-15  115839134X 9791158391348           SQL  \n",
              "180          한빛아카데미 2019-05-20  1156644445 9791156644446           PHP  \n",
              "195           한빛미디어 2019-02-01  1162241454 9791162241455           PHP  \n",
              "200          자유아카데미 2017-01-20  1158081227 9791158081225             R  \n",
              "206            느린생각 2018-06-05  1187139130 9791187139133             R  \n",
              "208      BOOKK(부크크) 2019-12-01  1127289179 9791127289171             R  \n",
              "209            느린생각 2019-11-20  1187139254 9791187139256             R  \n",
              "210             혜지원 2018-12-26  8983799765 9788983799760             R  \n",
              "212             교학사 2018-01-20  8909202882 9788909202886             R  \n",
              "214          자유아카데미 2018-08-31  1158082002 9791158082000             R  \n",
              "216              퍼플 2017-10-24  0000291986 1400000291986             R  "
            ]
          },
          "execution_count": 37,
          "metadata": {},
          "output_type": "execute_result"
        }
      ],
      "source": [
        "df[(df['출판일'] >= '2017-01-01') & (df['출판일'] <= '2019-12-31')]"
      ]
    },
    {
      "cell_type": "markdown",
      "id": "05a53358",
      "metadata": {
        "id": "05a53358"
      },
      "source": [
        "#### 2017-2019년 프로그래밍 언어별 출판물수 시각화 "
      ]
    },
    {
      "cell_type": "code",
      "execution_count": null,
      "id": "dfd44086",
      "metadata": {
        "id": "dfd44086",
        "outputId": "2df2cef9-3e22-4c63-d49a-e4e6b2b395fb"
      },
      "outputs": [
        {
          "data": {
            "image/png": "[encoded data removed]",
            "text/plain": [
              "<Figure size 1080x432 with 1 Axes>"
            ]
          },
          "metadata": {
            "needs_background": "light"
          },
          "output_type": "display_data"
        }
      ],
      "source": [
        "plt.figure(figsize=(15,6))\n",
        "sns.countplot(\n",
        "    x=df[(df['출판일'] >= '2017-01-01') & (df['출판일'] <= '2019-12-31')]['언어'], \n",
        "    data=df,\n",
        "    palette=\"RdYlGn\",\n",
        "    order=df[(df['출판일'] >= '2017-01-01') & (df['출판일'] <= '2019-12-31')]['언어'].value_counts().index\n",
        ")\n",
        "plt.show()"
      ]
    },
    {
      "cell_type": "markdown",
      "id": "be56cd6e",
      "metadata": {
        "id": "be56cd6e"
      },
      "source": [
        "## 3. 정리 및 결론"
      ]
    },
    {
      "cell_type": "markdown",
      "id": "f7bd1897",
      "metadata": {
        "id": "f7bd1897"
      },
      "source": [
        "- 분석 데이터는 각 언어별 상위 20권의 책을 기준으로 Naver 책 검색 API를 통해 수집하였습니다.\n",
        "- 수집 대상 데이터를 각 언어별 상위 20권으로 제한한 것은, 검색 결과의 첫 페이지에 나타나는 20권의 책이 사람들이 실질적으로 구매할만한 도서 후보군이라고 판단했기 때문입니다.\n",
        "- 컴퓨터 프로그래밍 언어별 출판물 수는 PHP, Java, C언어 순으로 많았습니다.\n",
        "- 출판물 양을 기준으로 한 우리나라의 컴퓨터 언어 관련 출판사 순위는 한빛미디어, 길벗, 위키북스 순으로 나타났습니다.\n",
        "- 전체 데이터를 2020년을 기준으로 분류했을 때, 2020-2021년 사이에 출판물이 많았던 언어는 파이썬, PHP, C#이었습니다. \n",
        "- 2017년부터 2019년 사이에 많이 출판된 프로그래밍 언어가 R, C언어, Java였던 것을 고려하면 최근 2년 사이에 인기있는 프로그래밍 언어 순위에 커다란 변화가 있었음을 알 수 있습니다."
      ]
    },
    {
      "cell_type": "markdown",
      "id": "1b000688",
      "metadata": {
        "id": "1b000688"
      },
      "source": [
        "| 언어   | 2017-2019년 순위    | 2020-2021년 순위 |\n",
        "|------ |-------------------| ----------------|\n",
        "| Python| 7위                | 1위 |\n",
        "| C     | 2위                | 7위 |\n",
        "| Java  | 3위                | 6위 |\n",
        "| C++   | 4위                | 8위 |\n",
        "| C#    | 6위                | 3위 |\n",
        "| Visual Basic  | 9위        | 10위 |\n",
        "| JavaScript  | 5위          | 5위 |\n",
        "| SQL   | 8위                | 4위 |\n",
        "| PHP   | 10위               | 2위 |\n",
        "| R     | 1위                | 9위 |"
      ]
    },
    {
      "cell_type": "markdown",
      "id": "c01a5ada",
      "metadata": {
        "id": "c01a5ada"
      },
      "source": [
        "- 특히 7위였던 파이썬이 1위로 올라서고, 10위였던 PHP가 2위로 급상승한 것이 가장 눈에 띄는 변화입니다.\n",
        "- 기존에 1위였던 R이 최근 9위로 떨어지고, 2위였던 C언어가 7위로 추락한 것도 주목할만한 부분입니다.\n",
        "- 비교적 배우기 어려운 C언어의 인기가 줄어든 것은 이해할만한 부분이지만, 데이터사이언스 분야의 대표적인 프로그래밍 언어인 R의 순위가 크게 떨어진 요인은 현재 데이터에서 추론하기 어렵습니다.\n",
        "<br>\n",
        "- 전체적인 출판물 수가 대폭 늘어난 것도 커다란 변화였습니다.\n",
        "- 2017-2019년 순위에서 1등이었던 R의 출판물 수가 8건에 불과했던 반면, 2020-2021년 순위에서 1등인 파이썬의 경우 출판물 수가 35건에 달합니다.\n",
        "- 2020-2021년 사이에는 5등 이상의 프로그래밍 언어 출판물이 모두 10건 이상인 것을 통해 추론했을 때, 출판 시장에 프로그래밍 언어 관련 책에 대한 수요가 그 만큼 늘어났다는 것을 알 수 있습니다."
      ]
    },
    {
      "cell_type": "code",
      "execution_count": null,
      "id": "3dd3875f",
      "metadata": {
        "id": "3dd3875f"
      },
      "outputs": [],
      "source": [
        ""
      ]
    }
  ],
  "metadata": {
    "kernelspec": {
      "display_name": "Python 3 (ipykernel)",
      "language": "python",
      "name": "python3"
    },
    "language_info": {
      "codemirror_mode": {
        "name": "ipython",
        "version": 3
      },
      "file_extension": ".py",
      "mimetype": "text/x-python",
      "name": "python",
      "nbconvert_exporter": "python",
      "pygments_lexer": "ipython3",
      "version": "3.8.11"
    },
    "colab": {
      "name": "popular_books_1.ipynb",
      "provenance": [],
      "collapsed_sections": []
    }
  },
  "nbformat": 4,
  "nbformat_minor": 5
}